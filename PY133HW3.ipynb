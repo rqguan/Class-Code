{
 "cells": [
  {
   "cell_type": "markdown",
   "metadata": {},
   "source": [
    "## Homework 3\n",
    "\n",
    "#### Runqun Guan \n",
    "#### Jul 17, 2018"
   ]
  },
  {
   "cell_type": "code",
   "execution_count": 50,
   "metadata": {},
   "outputs": [],
   "source": [
    "import math\n",
    "\n",
    "#permutation function\n",
    "def P(x,y):\n",
    "    p = math.factorial(y)/math.factorial(y-x)\n",
    "    return p\n",
    "\n",
    "#combination function\n",
    "def C(x,y):\n",
    "    c = P(x,y)/math.factorial(x)\n",
    "    return c\n",
    "\n",
    "#binomial distribution function\n",
    "def BD(x,y,p):\n",
    "    p = C(x,y) * (p**x) * ((1-p)**(y-x))\n",
    "    return p\n",
    "\n",
    "#doing factorials is annoying, so I decided to write above functions for this homework. \n",
    "\n",
    "#each cell corresponds to one problem. \n",
    "#each printed line corresponds to a part in one problem. "
   ]
  },
  {
   "cell_type": "markdown",
   "metadata": {},
   "source": [
    "### 1."
   ]
  },
  {
   "cell_type": "code",
   "execution_count": 76,
   "metadata": {},
   "outputs": [
    {
     "name": "stdout",
     "output_type": "stream",
     "text": [
      "0.00037210886297820453\n",
      "0.026047620408474317\n"
     ]
    }
   ],
   "source": [
    "#a.\n",
    "P1a = (1/6)**4 * (5/6)**4\n",
    "print(P1a)\n",
    "\n",
    "#b.\n",
    "P1b = C(4,8) * P1\n",
    "print(P1b)"
   ]
  },
  {
   "cell_type": "markdown",
   "metadata": {},
   "source": [
    "### 2."
   ]
  },
  {
   "cell_type": "code",
   "execution_count": 52,
   "metadata": {},
   "outputs": [
    {
     "name": "stdout",
     "output_type": "stream",
     "text": [
      "0.36143305429464256\n",
      "0.3673220540383818\n"
     ]
    }
   ],
   "source": [
    "#a.\n",
    "lam = 0.04 * 30\n",
    "k = 1\n",
    "P2a = math.e**(lam * (-1)) * (lam**k)/(math.factorial(k))\n",
    "print(P2a)\n",
    "\n",
    "#b.\n",
    "P2b = BD(1,30,0.04)\n",
    "print(P2b)"
   ]
  },
  {
   "cell_type": "markdown",
   "metadata": {},
   "source": [
    "### 3."
   ]
  },
  {
   "cell_type": "code",
   "execution_count": 69,
   "metadata": {},
   "outputs": [
    {
     "name": "stdout",
     "output_type": "stream",
     "text": [
      "0.15000000000000002\n",
      "0.625\n",
      "done\n",
      "P(pregnant|positive) is 0.7943548387096774\n"
     ]
    }
   ],
   "source": [
    "#a.\n",
    "one = 0.39\n",
    "two = 0.24\n",
    "exactly_one = one - two\n",
    "print(exactly_one)\n",
    "\n",
    "#b.\n",
    "P3b = 1 * 0.15/0.24\n",
    "print(P3b)\n",
    "\n",
    "#c.\n",
    "print('done')\n",
    "\n",
    "#d.\n",
    "#let say: the pragnent probability is 25%, thus the unpragent probability is 75%.\n",
    "P_prg = 0.25\n",
    "#for a testing tool kits: the ture positive is 98.5%, false positive is 0.8%. \n",
    "#therefore, probability of testing pregnant would be:25% + 0.8% x 75%\n",
    "P_true = 0.25 + 0.08*0.75\n",
    "P_true_prg = 0.985\n",
    "#the probability of being pragnant after having a positive result:\n",
    "P_prg_true = P_true_prg * P_prg / P_true\n",
    "print('P(pregnant|positive) is',P_prg_true)"
   ]
  },
  {
   "cell_type": "markdown",
   "metadata": {},
   "source": [
    "### 4."
   ]
  },
  {
   "cell_type": "code",
   "execution_count": 69,
   "metadata": {},
   "outputs": [
    {
     "name": "stdout",
     "output_type": "stream",
     "text": [
      "200.88888888888889\n",
      "734.7654320987654\n",
      "27.106556994549592\n",
      "9.035518998183198\n"
     ]
    }
   ],
   "source": [
    "L = [220, 208, 187, 199, 235, 231, 150, 166, 212]\n",
    "\n",
    "#mean\n",
    "mean_ = sum(L)/len(L)\n",
    "print(mean_)\n",
    "\n",
    "#variance\n",
    "vari_sum = (mean_-220)**2+(mean_-208)**2+(mean_-187)**2+(mean_-199)**2+(mean_-235)**2+(mean_-231)**2+(mean_-150)**2+(mean_-166)**2+(mean_-212)**2\n",
    "vari_ = vari_sum/len(L)\n",
    "print(vari_)\n",
    "\n",
    "#standard deviation\n",
    "stdv = vari_**(1/2)\n",
    "print(stdv)\n",
    "\n",
    "#standard deviation of the mean\n",
    "stdv_mean = stdv/len(L)**(1/2)\n",
    "print(stdv_mean)"
   ]
  },
  {
   "cell_type": "markdown",
   "metadata": {},
   "source": [
    "### 5."
   ]
  },
  {
   "cell_type": "code",
   "execution_count": 118,
   "metadata": {},
   "outputs": [
    {
     "name": "stdout",
     "output_type": "stream",
     "text": [
      "the derivative error is 40.200852177044695\n",
      "the average is 3379.5\n",
      "the weighted average is 3383.77708943916\n",
      "the error on the weighted average is 484.69855944712066\n"
     ]
    }
   ],
   "source": [
    "import numpy as np\n",
    "\n",
    "#a.\n",
    "#see paper\n",
    "\n",
    "#b.\n",
    "#see paper\n",
    "546/math.sin(math.pi*5.3/180)\n",
    "\n",
    "5780.6-5911\n",
    "\n",
    "x = 1/math.sin(math.pi*5.3/180)\n",
    "y = 546**2 * 1/math.tan(math.pi*5.3/180) * (math.pi*0.1/180)**2 + 4\n",
    "z = y ** (1/2)\n",
    "print ('the derivative error is',x*z)\n",
    "\n",
    "#c.\n",
    "J = [3370,3266,3382,3500] #wavelwngth array\n",
    "k = [41,140,28,84] #error array\n",
    "\n",
    "d5c = sum(J)/len(J)\n",
    "print(\"the average is\",d5c)\n",
    "\n",
    "w = [1/k[i]**2 for i in range(len(k))]\n",
    "wsum = sum(w) #sum of weight\n",
    "wJ = [w[i]*J[i]/wsum for i in range(len(J))]\n",
    "print(\"the weighted average is\",sum(wJ)) #weighted average\n",
    "\n",
    "\n",
    "#d.\n",
    "print('the error on the weighted average is',1/wsum)\n"
   ]
  },
  {
   "cell_type": "markdown",
   "metadata": {},
   "source": [
    "### 6. \n",
    "###### see paper"
   ]
  },
  {
   "cell_type": "markdown",
   "metadata": {},
   "source": [
    "### 7. "
   ]
  },
  {
   "cell_type": "code",
   "execution_count": 1,
   "metadata": {},
   "outputs": [],
   "source": [
    "from numpy import *\n",
    "%matplotlib inline\n",
    "from matplotlib.pyplot import *\n",
    "from astropy.io import ascii\n",
    "dt = ascii.read('7data.txt')"
   ]
  },
  {
   "cell_type": "code",
   "execution_count": 2,
   "metadata": {},
   "outputs": [
    {
     "data": {
      "text/plain": [
       "['col1', 'col2', 'col3']"
      ]
     },
     "execution_count": 2,
     "metadata": {},
     "output_type": "execute_result"
    }
   ],
   "source": [
    "dt.colnames\n"
   ]
  },
  {
   "cell_type": "code",
   "execution_count": 26,
   "metadata": {},
   "outputs": [
    {
     "name": "stdout",
     "output_type": "stream",
     "text": [
      "results\n",
      "slope = 290.385 +/- 10.122\n",
      "intercept = 1.343 +/- 0.549\n"
     ]
    }
   ],
   "source": [
    "def linfit(xdata, ydata, yerror):\n",
    "    def U(n):\n",
    "        U_n = sum((xdata**n)/(yerror**2), 0)\n",
    "        return U_n\n",
    "    def W(n): \n",
    "        W_n = sum(ydata * (xdata**n) / (yerror**2)) \n",
    "        return W_n\n",
    "    D = U(0) * U(2) - (U(1)**2)\n",
    "    slope = (U(0)*W(1) - U(1)*W(0)) / D\n",
    "    intercept = (U(2)*W(0) - U(1)*W(1)) / D\n",
    "    sigma_slope = U(0)/D\n",
    "    sigma_intercept = U(2)/D\n",
    "    print(\"results\")\n",
    "    print(\"slope = %.3f +/- %.3f\"%(slope, sigma_slope))\n",
    "    print(\"intercept = %.3f +/- %.3f\"%(intercept, sigma_intercept))\n",
    "\n",
    "x = dt['col1']\n",
    "y = dt['col2']\n",
    "yerr = dt['col3']\n",
    "\n",
    "linfit(x, y, yerr)"
   ]
  },
  {
   "cell_type": "code",
   "execution_count": 48,
   "metadata": {},
   "outputs": [
    {
     "data": {
      "text/plain": [
       "<matplotlib.legend.Legend at 0x7f0477a04f60>"
      ]
     },
     "execution_count": 48,
     "metadata": {},
     "output_type": "execute_result"
    },
    {
     "data": {
      "image/png": "[encoded data removed]",
      "text/plain": [
       "<matplotlib.figure.Figure at 0x7f0477a47e48>"
      ]
     },
     "metadata": {},
     "output_type": "display_data"
    }
   ],
   "source": [
    "from matplotlib.pyplot import *\n",
    "import matplotlib.patches as mpatches\n",
    "import matplotlib.pyplot as plt\n",
    "\n",
    "f = plt.figure()\n",
    "\n",
    "j = np.linspace(0,max(dt['col1']))\n",
    "k = 290.385 * j + 1.343\n",
    "plot(j,k,c='k',alpha=0.4)\n",
    "\n",
    "scatter(x,y)\n",
    "plt.errorbar(x, y, yerr=yerr,fmt='.',ecolor = 'r',alpha = 0.5,capsize=3)\n",
    "\n",
    "plt.title('A plot for linear regression')\n",
    "plt.xlabel('X axis')\n",
    "plt.ylabel('Y axis')\n",
    "grid()\n",
    "legend(['regression line','data points','error bar'])\n",
    "\n",
    "#f.savefig(\"001.pdf\", bbox_inches='tight')"
   ]
  },
  {
   "cell_type": "code",
   "execution_count": 22,
   "metadata": {},
   "outputs": [
    {
     "name": "stdout",
     "output_type": "stream",
     "text": [
      "the physical meaning of the slope(U/I=R) is resistant of the circuit. \n",
      "the uncertainty of the slope is 10.122\n",
      "the uncertainty of the intercept is 0.549\n",
      "the chi-square is 0.0013638888888858336\n",
      "the averaged chi-square is 7.577160493810187e-05\n"
     ]
    }
   ],
   "source": [
    "#b.\n",
    "print('the physical meaning of the slope(U/I=R) is resistant of the circuit. ')\n",
    "\n",
    "#c.\n",
    "print('the uncertainty of the slope is',10.122)\n",
    "print('the uncertainty of the intercept is',0.549)\n",
    "\n",
    "#d.\n",
    "chi2 = [(dt['col2'][i]-(290.385 * dt['col1'][i]+ 1.343))/dt['col3'][i]**2 for i in range(len(dt['col1']))]\n",
    "print('the chi-square is',sum(chi2))\n",
    "\n",
    "v = len(dt['col2'])-2\n",
    "\n",
    "chii2 = sum(chi2)/v\n",
    "\n",
    "print('the averaged chi-square is',chii2)"
   ]
  },
  {
   "cell_type": "markdown",
   "metadata": {},
   "source": [
    "### scenario 2"
   ]
  },
  {
   "cell_type": "code",
   "execution_count": 65,
   "metadata": {},
   "outputs": [
    {
     "name": "stdout",
     "output_type": "stream",
     "text": [
      "results\n",
      "slope = 300.922 +/- 14.575\n",
      "intercept = -0.136 +/- 0.635\n"
     ]
    }
   ],
   "source": [
    "#e. \n",
    "\n",
    "x_2 = array([dt['col1'][i] for i in range(15)])\n",
    "y_2 = array([dt['col2'][i] for i in range(15)])\n",
    "yerr_2 = array([dt['col3'][i] for i in range(15)])\n",
    "\n",
    "linfit(x_2, y_2, yerr_2)"
   ]
  },
  {
   "cell_type": "code",
   "execution_count": 66,
   "metadata": {},
   "outputs": [
    {
     "data": {
      "text/plain": [
       "<matplotlib.legend.Legend at 0x7f0477617908>"
      ]
     },
     "execution_count": 66,
     "metadata": {},
     "output_type": "execute_result"
    },
    {
     "data": {
      "image/png": "[encoded data removed]",
      "text/plain": [
       "<matplotlib.figure.Figure at 0x7f047765f898>"
      ]
     },
     "metadata": {},
     "output_type": "display_data"
    }
   ],
   "source": [
    "from matplotlib.pyplot import *\n",
    "import matplotlib.patches as mpatches\n",
    "import matplotlib.pyplot as plt\n",
    "\n",
    "f = plt.figure()\n",
    "\n",
    "j = np.linspace(0,dt['col1'][15])\n",
    "k = 300.922 * j - 0.136\n",
    "plot(j,k,c='k',alpha=0.4)\n",
    "\n",
    "scatter(x_2,y_2)\n",
    "plt.errorbar(x_2, y_2, yerr = yerr_2,fmt='.',ecolor = 'r',alpha = 0.5,capsize=3)\n",
    "\n",
    "plt.title('A plot for linear regression')\n",
    "plt.xlabel('X axis')\n",
    "plt.ylabel('Y axis')\n",
    "grid()\n",
    "legend(['regression line','data points','error bar'])\n",
    "\n",
    "#f.savefig(\"001.pdf\", bbox_inches='tight')"
   ]
  },
  {
   "cell_type": "code",
   "execution_count": 68,
   "metadata": {},
   "outputs": [
    {
     "name": "stdout",
     "output_type": "stream",
     "text": [
      "the physical meaning of the slope(U/I=R) is resistant of the circuit. \n",
      "the uncertainty of the slope is 14.575\n",
      "the uncertainty of the intercept is 0.635\n",
      "the chi-square is 0.0013351111110856476\n",
      "the averaged chi-square is 7.577160493810187e-05\n"
     ]
    }
   ],
   "source": [
    "#b.\n",
    "print('the physical meaning of the slope(U/I=R) is resistant of the circuit. ')\n",
    "\n",
    "#c.\n",
    "print('the uncertainty of the slope is',14.575)\n",
    "print('the uncertainty of the intercept is',0.635)\n",
    "\n",
    "#d.\n",
    "chi2_2 = [(y_2[i]-(300.922 * x_2[i]-0.136))/yerr_2[i]**2 for i in range(len(x_2))]\n",
    "print('the chi-square is',sum(chi2_2))\n",
    "\n",
    "v = len(y_2)-2\n",
    "\n",
    "chii2_2 = sum(chi2_2)/v\n",
    "\n",
    "print('the averaged chi-square is',chii2)"
   ]
  },
  {
   "cell_type": "code",
   "execution_count": null,
   "metadata": {},
   "outputs": [],
   "source": []
  }
 ],
 "metadata": {
  "kernelspec": {
   "display_name": "Python 3.6",
   "language": "python",
   "name": "python36"
  },
  "language_info": {
   "codemirror_mode": {
    "name": "ipython",
    "version": 3
   },
   "file_extension": ".py",
   "mimetype": "text/x-python",
   "name": "python",
   "nbconvert_exporter": "python",
   "pygments_lexer": "ipython3",
   "version": "3.6.4"
  }
 },
 "nbformat": 4,
 "nbformat_minor": 2
}
