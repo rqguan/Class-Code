{
 "cells": [
  {
   "cell_type": "markdown",
   "metadata": {},
   "source": [
    "## 1. Warm-up."
   ]
  },
  {
   "cell_type": "code",
   "execution_count": 2,
   "metadata": {},
   "outputs": [
    {
     "name": "stdout",
     "output_type": "stream",
     "text": [
      "hello world\n"
     ]
    }
   ],
   "source": [
    "#a. \n",
    "print(\"hello world\")"
   ]
  },
  {
   "cell_type": "code",
   "execution_count": 3,
   "metadata": {},
   "outputs": [],
   "source": [
    "#b.\n",
    "import numpy as np"
   ]
  },
  {
   "cell_type": "code",
   "execution_count": 4,
   "metadata": {},
   "outputs": [
    {
     "name": "stdout",
     "output_type": "stream",
     "text": [
      "100\n"
     ]
    }
   ],
   "source": [
    "#c. \n",
    "x = 5\n",
    "x = x**3 - 25 \n",
    "print(x)"
   ]
  },
  {
   "cell_type": "code",
   "execution_count": 5,
   "metadata": {},
   "outputs": [
    {
     "name": "stdout",
     "output_type": "stream",
     "text": [
      "0.0\n",
      "1.0\n",
      "10.0\n",
      "[1. 2. 3. 4.]\n",
      "[ 5.  6.  7.  8.  9. 10.]\n"
     ]
    }
   ],
   "source": [
    "#d. \n",
    "y = np.linspace(0,10,11)\n",
    "print(y[0])\n",
    "print(y[1])\n",
    "print(y[-1])\n",
    "print(y[1:5])\n",
    "print(y[5:])"
   ]
  },
  {
   "cell_type": "code",
   "execution_count": 6,
   "metadata": {},
   "outputs": [
    {
     "name": "stdout",
     "output_type": "stream",
     "text": [
      "[ 4.  5.  6.  7.  8.  9. 10.]\n",
      "[ 4.  5.  6.  7.  8.  9. 10.]\n"
     ]
    }
   ],
   "source": [
    "#e. \n",
    "mask = (y>3)\n",
    "print(y[mask])\n",
    "print(y[y>3])"
   ]
  },
  {
   "cell_type": "code",
   "execution_count": 7,
   "metadata": {},
   "outputs": [
    {
     "name": "stdout",
     "output_type": "stream",
     "text": [
      "[  0  17  64 141]\n"
     ]
    },
    {
     "data": {
      "text/plain": [
       "\"\\na=np.array([0,1,2,3])\\nb=np.array([0,15,30,45,60])\\nprint(2*a+a*b)\\nAn error occur, says the two array doesn't match. \\n\\n\""
      ]
     },
     "execution_count": 7,
     "metadata": {},
     "output_type": "execute_result"
    }
   ],
   "source": [
    "#f. \n",
    "a=np.array([0,1,2,3])\n",
    "b=np.array([0,15,30,45])\n",
    "print(2*a+a*b)\n",
    "\n",
    "'''\n",
    "a=np.array([0,1,2,3])\n",
    "b=np.array([0,15,30,45,60])\n",
    "print(2*a+a*b)\n",
    "An error occur, says the two array doesn't match. \n",
    "\n",
    "'''"
   ]
  },
  {
   "cell_type": "code",
   "execution_count": 8,
   "metadata": {},
   "outputs": [
    {
     "name": "stdout",
     "output_type": "stream",
     "text": [
      "14\n",
      "14.352\n",
      "1.4352e+01\n",
      "00014\n"
     ]
    }
   ],
   "source": [
    "#g. \n",
    "x = 14.35244\n",
    "print(\"%d\"%(x))\n",
    "print(\"%.3f\"%(x))\n",
    "print(\"%.4e\"%(x))\n",
    "print(\"%05d\"%(x))"
   ]
  },
  {
   "cell_type": "code",
   "execution_count": 9,
   "metadata": {},
   "outputs": [
    {
     "name": "stdout",
     "output_type": "stream",
     "text": [
      "7.290000000000001\n"
     ]
    }
   ],
   "source": [
    "#h.\n",
    "def myfunc1(x):\n",
    "    return x**2\n",
    "    \n",
    "print(myfunc1(2.7))"
   ]
  },
  {
   "cell_type": "markdown",
   "metadata": {},
   "source": [
    "## 2. Write a linear regression function."
   ]
  },
  {
   "cell_type": "code",
   "execution_count": 10,
   "metadata": {},
   "outputs": [
    {
     "name": "stdout",
     "output_type": "stream",
     "text": [
      "results\n",
      "slope = -4.874 +/- 0.057\n",
      "intercept = -7.994 +/- 0.037\n"
     ]
    },
    {
     "data": {
      "text/plain": [
       "numpy.ndarray"
      ]
     },
     "execution_count": 10,
     "metadata": {},
     "output_type": "execute_result"
    }
   ],
   "source": [
    "#a. \n",
    "\n",
    "def linfit(xdata, ydata, yerror):\n",
    "    def U(n):\n",
    "        U_n = sum((xdata**n)/(yerror**2), 0)\n",
    "        return U_n\n",
    "    def W(n): \n",
    "        W_n = sum(ydata * (xdata**n) / (yerror**2)) \n",
    "        return W_n\n",
    "    D = U(0) * U(2) - (U(1)**2)\n",
    "    slope = (U(0)*W(1) - U(1)*W(0)) / D\n",
    "    intercept = (U(2)*W(0) - U(1)*W(1)) / D\n",
    "    sigma_slope = U(0)/D\n",
    "    sigma_intercept = U(2)/D\n",
    "    print(\"results\")\n",
    "    print(\"slope = %.3f +/- %.3f\"%(slope, sigma_slope))\n",
    "    print(\"intercept = %.3f +/- %.3f\"%(intercept, sigma_intercept))\n",
    "\n",
    "#b. \n",
    "\n",
    "x = np.array([ 0., 1., 2., 3., 4., 5.])\n",
    "y = np.array([ -8.0, -12.8, -17.7, -23.3, -27.6, -31.7])\n",
    "yerr = np.array([ 0.2, -0.5, -0.9, -1.6, -2.0, -2.5])\n",
    "\n",
    "linfit(x, y, yerr)"
   ]
  },
  {
   "cell_type": "code",
   "execution_count": 11,
   "metadata": {
    "scrolled": true
   },
   "outputs": [
    {
     "data": {
      "text/plain": [
       "<matplotlib.legend.Legend at 0x7f5d73cbfd68>"
      ]
     },
     "execution_count": 11,
     "metadata": {},
     "output_type": "execute_result"
    },
    {
     "data": {
      "image/png": "[encoded data removed]",
      "text/plain": [
       "<matplotlib.figure.Figure at 0x7f5d73cfd080>"
      ]
     },
     "metadata": {},
     "output_type": "display_data"
    }
   ],
   "source": [
    "#c. \n",
    "from matplotlib.pyplot import *\n",
    "import matplotlib.patches as mpatches\n",
    "import matplotlib.pyplot as plt\n",
    "\n",
    "x = np.array([ 0., 1., 2., 3., 4., 5.])\n",
    "y = np.array([ -8.0, -12.8, -17.7, -23.3, -27.6, -31.7])\n",
    "yerr = np.array([ 0.2, -0.5, -0.9, -1.6, -2.0, -2.5])\n",
    "\n",
    "f = plt.figure()\n",
    "\n",
    "j = np.linspace(0,8)\n",
    "k = -4.874 * j - 7.994\n",
    "plot(j,k,c='k',alpha=0.4)\n",
    "\n",
    "scatter(x,y)\n",
    "plt.errorbar(x, y, yerr=yerr,fmt='.',ecolor = 'r',alpha = 0.5,capsize=3)\n",
    "\n",
    "plt.title('A plot for linear regression')\n",
    "plt.xlabel('X axis')\n",
    "plt.ylabel('Y axis')\n",
    "grid()\n",
    "legend(['regression line','data points','error bar'])\n",
    "\n",
    "#f.savefig(\"001.pdf\", bbox_inches='tight')"
   ]
  },
  {
   "cell_type": "markdown",
   "metadata": {},
   "source": [
    "## 3. Plot the complex impedance."
   ]
  },
  {
   "cell_type": "code",
   "execution_count": 12,
   "metadata": {},
   "outputs": [],
   "source": [
    "#a. \n",
    "from numpy import *\n",
    "\n",
    "def z(R,L,C,f):\n",
    "    omega = 2 * pi * f\n",
    "    z = ((1/R)+(1/(1j*omega*L))+(1j*omega*C)) ** (-1)\n",
    "    return z"
   ]
  },
  {
   "cell_type": "code",
   "execution_count": 16,
   "metadata": {},
   "outputs": [
    {
     "data": {
      "image/png": "[encoded data removed]",
      "text/plain": [
       "<matplotlib.figure.Figure at 0x7f5d736b2a90>"
      ]
     },
     "metadata": {},
     "output_type": "display_data"
    },
    {
     "data": {
      "image/png": "[encoded data removed]",
      "text/plain": [
       "<matplotlib.figure.Figure at 0x7f5d736810f0>"
      ]
     },
     "metadata": {},
     "output_type": "display_data"
    }
   ],
   "source": [
    "#b. \n",
    "\n",
    "from matplotlib.backends.backend_pdf import PdfPages\n",
    "pp = PdfPages('multipage.pdf')\n",
    "\n",
    "f = linspace(1,20000)\n",
    "R = 2e3\n",
    "L =5e-3\n",
    "C = 300e-9\n",
    "zph = np.abs(z(R,L,C,f))\n",
    "zang = np.angle(z(R,L,C,f))\n",
    "zph2 = np.abs(z(R*2,L,C,f))\n",
    "zang2 = np.angle(z(R*2,L,C,f))\n",
    "\n",
    "plot(f,zph,c='red')\n",
    "plot(f,zph2,c='blue')\n",
    "plt.title('L=5mH, C=300nF, f=1Hz~20kHz')\n",
    "plt.xlabel('Frequency')\n",
    "plt.ylabel('Impedance Magnitude')\n",
    "grid()\n",
    "legend(['R=2k$\\Omega$','R=4k$\\Omega$'])\n",
    "pp.savefig()\n",
    "\n",
    "subplots(1)\n",
    "plot(f,zang,c='red')\n",
    "plot(f,zang2,c='blue')\n",
    "plt.title('L=5mH, C=300nF, f=1Hz~20kHz')\n",
    "plt.xlabel('Frequency')\n",
    "plt.ylabel('Impedance Phase')\n",
    "grid()\n",
    "legend(['R=2k$\\Omega$','R=4k$\\Omega$'])\n",
    "pp.savefig()\n",
    "pp.close()"
   ]
  },
  {
   "cell_type": "markdown",
   "metadata": {},
   "source": [
    "## 4. Basic if and for loops."
   ]
  },
  {
   "cell_type": "code",
   "execution_count": 22,
   "metadata": {},
   "outputs": [
    {
     "name": "stdout",
     "output_type": "stream",
     "text": [
      "2\n",
      "3\n",
      "5\n",
      "7\n",
      "11\n",
      "13\n",
      "17\n",
      "19\n",
      "23\n",
      "29\n",
      "31\n",
      "37\n",
      "41\n",
      "43\n",
      "47\n",
      "53\n",
      "59\n",
      "61\n",
      "67\n",
      "71\n",
      "73\n",
      "79\n",
      "83\n",
      "89\n",
      "97\n"
     ]
    }
   ],
   "source": [
    "def ifp(x):\n",
    "    for i in range(2,x):\n",
    "        if (x%i) == 0:\n",
    "            return False\n",
    "    return True\n",
    "            \n",
    "        \n",
    "for i in range(2,100):\n",
    "    if ifp(i):\n",
    "        print(i)\n",
    "pass"
   ]
  },
  {
   "cell_type": "markdown",
   "metadata": {},
   "source": [
    "## BONUS. Visualizing the helium spectrum."
   ]
  },
  {
   "cell_type": "code",
   "execution_count": 69,
   "metadata": {},
   "outputs": [],
   "source": [
    "## this file is provided for use in the bonus question of the programming homework assignment\n",
    "## this file is written in Python code\n",
    "\n",
    "## helium spectral line data (these are Python \"dictionaries\")\n",
    "Z0 = {'label':r'ZZ',    'degrees':0.  , 'arcmins':0.,   'color':r'#FFFAD2' , 'intensity':1.,  'order':0 }\n",
    "A0 = {'label':r'$A_R$', 'degrees':7.5 , 'arcmins':5.,   'color':r'#2231ff' , 'intensity':.8,  'order':1 }\n",
    "A1 = {'label':r'$A_L$', 'degrees':-7.5, 'arcmins':-5.,  'color':r'#2231ff' , 'intensity':.8,  'order':1 }\n",
    "B0 = {'label':r'$B_R$', 'degrees':7.5 , 'arcmins':29.,  'color':r'#1845e6' , 'intensity':.6,  'order':1 }\n",
    "B1 = {'label':r'$B_L$', 'degrees':-7.5, 'arcmins':-29., 'color':r'#1845e6' , 'intensity':.6,  'order':1 }\n",
    "C0 = {'label':r'$C_R$', 'degrees':8.  , 'arcmins':23.,  'color':r'#07d3De' , 'intensity':.7,  'order':1 }\n",
    "C1 = {'label':r'$C_L$', 'degrees':-8. , 'arcmins':-23., 'color':r'#07d3De' , 'intensity':.7,  'order':1 }\n",
    "D0 = {'label':r'$D_R$', 'degrees':8.5 , 'arcmins':0.,   'color':r'#02fffa' , 'intensity':.9,  'order':1 }\n",
    "D1 = {'label':r'$D_L$', 'degrees':-8.5, 'arcmins':-0.,  'color':r'#02fffa' , 'intensity':.9,  'order':1 }\n",
    "E0 = {'label':r'$E_R$', 'degrees':10. , 'arcmins':1.,   'color':r'#FAFF41' , 'intensity':.95, 'order':1 }\n",
    "E1 = {'label':r'$E_L$', 'degrees':-10., 'arcmins':-1.,  'color':r'#FAFF41' , 'intensity':.95, 'order':1 }\n",
    "F0 = {'label':r'$F_R$', 'degrees':11. , 'arcmins':24.,  'color':r'#FF80A9' , 'intensity':.7,  'order':1 }\n",
    "F1 = {'label':r'$F_L$', 'degrees':-11., 'arcmins':-24., 'color':r'#FF80A9' , 'intensity':.7,  'order':1 }\n",
    "G0 = {'label':r'$G_R$', 'degrees':12. , 'arcmins':10.,  'color':r'#DE4C4F' , 'intensity':.6,  'order':1 }\n",
    "G1 = {'label':r'$G_L$', 'degrees':-12., 'arcmins':-10., 'color':r'#DE4C4F' , 'intensity':.6,  'order':1 }\n",
    "\n",
    "## list of lines\n",
    "lines = [Z0,A0,A1,B0,B1,C0,C1,D0,D1,E0,E1,F0,F1,G0,G1]"
   ]
  },
  {
   "cell_type": "code",
   "execution_count": 92,
   "metadata": {},
   "outputs": [
    {
     "name": "stderr",
     "output_type": "stream",
     "text": [
      "/usr/local/anaconda3/lib/python3.6/site-packages/matplotlib/cbook/deprecation.py:106: MatplotlibDeprecationWarning: The axisbg attribute was deprecated in version 2.0. Use facecolor instead.\n",
      "  warnings.warn(message, mplDeprecation, stacklevel=1)\n",
      "/usr/local/anaconda3/lib/python3.6/site-packages/matplotlib/cbook/deprecation.py:106: MatplotlibDeprecationWarning: Adding an axes using the same arguments as a previous axes currently reuses the earlier instance.  In a future version, a new instance will always be created and returned.  Meanwhile, this warning can be suppressed, and the future behavior ensured, by passing a unique label to each axes instance.\n",
      "  warnings.warn(message, mplDeprecation, stacklevel=1)\n"
     ]
    },
    {
     "data": {
      "image/png": "[encoded data removed]",
      "text/plain": [
       "<matplotlib.figure.Figure at 0x7ff0d18329b0>"
      ]
     },
     "metadata": {},
     "output_type": "display_data"
    }
   ],
   "source": [
    "from matplotlib.pyplot import *\n",
    "import matplotlib.patches as mpatches\n",
    "import matplotlib.pyplot as plt\n",
    "\n",
    "f=plt.figure(figsize=(12, 2), dpi=80)\n",
    "\n",
    "for i in lines:\n",
    "    fig = plt.figure(1)\n",
    "    ax = fig.add_subplot(111, axisbg='black')\n",
    "    ax.scatter((i['degrees']+i['arcmins']/60),i['order'],color=i['color'],alpha=i['intensity'],marker='|',s=15000)\n",
    "    fig.canvas.draw()\n",
    "    \n",
    "    \n",
    "\n",
    "plt.xlabel('$\\Theta$(degrees)')\n",
    "ax.set_yticklabels([])\n",
    "#f.savefig(\"005.pdf\", bbox_inches='tight')"
   ]
  },
  {
   "cell_type": "code",
   "execution_count": 61,
   "metadata": {},
   "outputs": [],
   "source": []
  },
  {
   "cell_type": "code",
   "execution_count": null,
   "metadata": {},
   "outputs": [],
   "source": []
  }
 ],
 "metadata": {
  "kernelspec": {
   "display_name": "Python 3.6",
   "language": "python",
   "name": "python36"
  },
  "language_info": {
   "codemirror_mode": {
    "name": "ipython",
    "version": 3
   },
   "file_extension": ".py",
   "mimetype": "text/x-python",
   "name": "python",
   "nbconvert_exporter": "python",
   "pygments_lexer": "ipython3",
   "version": "3.6.4"
  }
 },
 "nbformat": 4,
 "nbformat_minor": 2
}
