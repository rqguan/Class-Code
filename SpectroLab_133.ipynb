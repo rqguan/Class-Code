{
 "cells": [
  {
   "cell_type": "markdown",
   "metadata": {},
   "source": [
    "## Helium\n"
   ]
  },
  {
   "cell_type": "code",
   "execution_count": 2,
   "metadata": {},
   "outputs": [],
   "source": [
    "#first import our packages\n",
    "from numpy import *\n",
    "%matplotlib inline\n",
    "from matplotlib.pyplot import *\n",
    "from astropy.io import ascii\n",
    "import matplotlib.patches as mpatches\n",
    "import matplotlib.pyplot as plt\n"
   ]
  },
  {
   "cell_type": "code",
   "execution_count": 3,
   "metadata": {},
   "outputs": [],
   "source": [
    "import pandas as pd \n",
    "gd = pd.read_csv('GD.csv')\n",
    "rb = pd.read_csv('RB.csv')"
   ]
  },
  {
   "cell_type": "code",
   "execution_count": null,
   "metadata": {
    "scrolled": true
   },
   "outputs": [],
   "source": []
  },
  {
   "cell_type": "code",
   "execution_count": 4,
   "metadata": {},
   "outputs": [
    {
     "name": "stderr",
     "output_type": "stream",
     "text": [
      "/usr/local/anaconda3/lib/python3.6/site-packages/matplotlib/cbook/deprecation.py:106: MatplotlibDeprecationWarning: The axisbg attribute was deprecated in version 2.0. Use facecolor instead.\n",
      "  warnings.warn(message, mplDeprecation, stacklevel=1)\n"
     ]
    },
    {
     "data": {
      "text/plain": [
       "[]"
      ]
     },
     "execution_count": 4,
     "metadata": {},
     "output_type": "execute_result"
    },
    {
     "data": {
      "image/png": "[encoded data removed]",
      "text/plain": [
       "<matplotlib.figure.Figure at 0x7fc280d834a8>"
      ]
     },
     "metadata": {},
     "output_type": "display_data"
    }
   ],
   "source": [
    "cmap_r = matplotlib.cm.get_cmap('Spectral_r')\n",
    "x = (gd.G1 + gd.G2)/2\n",
    "y = [0,0,0,0,0,0,0,0,0,0,0,0,0,0]\n",
    "\n",
    "f=plt.figure(figsize=(12, 2), dpi=80)\n",
    "fig = plt.figure(1)\n",
    "ax = fig.add_subplot(111, axisbg='black')\n",
    "ax.scatter(x,y,c = gd.LAMR, cmap = cmap_r,marker='|',s=10000)\n",
    "fig.canvas.draw()\n",
    "plt.xlabel('$\\Theta$(degrees)')\n",
    "plt.ylabel(' Weighted Avg')\n",
    "ax.set_yticklabels([])"
   ]
  },
  {
   "cell_type": "markdown",
   "metadata": {},
   "source": [
    "# Propagating Error of D"
   ]
  },
  {
   "cell_type": "code",
   "execution_count": 5,
   "metadata": {},
   "outputs": [
    {
     "name": "stdout",
     "output_type": "stream",
     "text": [
      "the error of D is 12.269791177842706\n"
     ]
    }
   ],
   "source": [
    "\n",
    "for i in range(7):\n",
    "\n",
    "    th1 = (-1) * gd.LAMR[i] * (math.cos(math.pi*gd.G1[i]/180)) / math.sin(math.pi*gd.G1[i]/180)**(2)\n",
    "    th2 = (-1) * gd.LAMR[i] * (math.cos(math.pi*gd.G2[i]/180)) / math.sin(math.pi*gd.G2[i]/180)**(2)\n",
    "    the1 = (th1**(2)) * (math.pi*gd.E1[i]/180)**2 \n",
    "    the2 = (th2**(2)) * (math.pi*gd.E2[i]/180)**2 \n",
    "    \n",
    "    la1 = 1/math.sin(math.pi*gd.G1[i]/180)\n",
    "    la2 = 1/math.sin(math.pi*gd.G2[i]/180)\n",
    "    lae1 = (la1**(2)) * 1\n",
    "    lae2 = (la2**(2)) * 1\n",
    "    \n",
    "    \n",
    "    sumy1 = (sum(the1) + sum(lae1)) ** (1/2)\n",
    "    sumy2 = (sum(the2) + sum(lae2)) ** (1/2)\n",
    "\n",
    "    z = (sumy1+sumy2)/2\n",
    "\n",
    "\n",
    "print('the error of D is',z)"
   ]
  },
  {
   "cell_type": "code",
   "execution_count": 6,
   "metadata": {},
   "outputs": [],
   "source": [
    "error_d = z"
   ]
  },
  {
   "cell_type": "markdown",
   "metadata": {},
   "source": [
    "# Graphing Zone"
   ]
  },
  {
   "cell_type": "code",
   "execution_count": 7,
   "metadata": {},
   "outputs": [
    {
     "name": "stdout",
     "output_type": "stream",
     "text": [
      "results\n",
      "slope = 3364.099 +/- 0.293\n",
      "intercept = 0.764 +/- 0.009\n"
     ]
    }
   ],
   "source": [
    "xsin = (gd.SING1 + gd.SING2)/2\n",
    "ylam = gd.LAMR\n",
    "yerr = (gd.E1 + gd.E2)/2\n",
    "\n",
    "def linfit(xdata, ydata, yerror):\n",
    "    def U(n):\n",
    "        U_n = sum((xdata**n)/(yerror**2), 0)\n",
    "        return U_n\n",
    "    def W(n): \n",
    "        W_n = sum(ydata * (xdata**n) / (yerror**2)) \n",
    "        return W_n\n",
    "    D = U(0) * U(2) - (U(1)**2)\n",
    "    slope = (U(0)*W(1) - U(1)*W(0)) / D\n",
    "    intercept = (U(2)*W(0) - U(1)*W(1)) / D\n",
    "    sigma_slope = U(0)/D\n",
    "    sigma_intercept = U(2)/D\n",
    "    print(\"results\")\n",
    "    print(\"slope = %.3f +/- %.3f\"%(slope, sigma_slope))\n",
    "    print(\"intercept = %.3f +/- %.3f\"%(intercept, sigma_intercept))\n",
    "\n",
    "\n",
    "linfit(xsin, ylam, yerr)"
   ]
  },
  {
   "cell_type": "code",
   "execution_count": 8,
   "metadata": {},
   "outputs": [
    {
     "data": {
      "text/plain": [
       "[]"
      ]
     },
     "execution_count": 8,
     "metadata": {},
     "output_type": "execute_result"
    },
    {
     "data": {
      "image/png": "[encoded data removed]",
      "text/plain": [
       "<matplotlib.figure.Figure at 0x7fc2759299b0>"
      ]
     },
     "metadata": {},
     "output_type": "display_data"
    }
   ],
   "source": [
    "f = plt.figure()\n",
    "\n",
    "j = np.linspace(min(xsin),max(xsin))\n",
    "k = 3346.099 * j + 0.764\n",
    "plot(j,k,c='k',alpha=0.4)\n",
    "\n",
    "scatter(xsin,ylam)\n",
    "plt.errorbar(xsin, ylam, yerr=yerr*1000,fmt='.',ecolor = 'r',alpha = 0.5,capsize=3)\n",
    "\n",
    "plt.title('Grating Constant')\n",
    "plt.xlabel('Viewing angle(sin(degree))')\n",
    "plt.ylabel('wavelength(Angstrong)')\n",
    "grid()\n",
    "legend(['regression line','data points','error bar(relative)'])\n",
    "\n",
    "\n",
    "plot()"
   ]
  },
  {
   "cell_type": "code",
   "execution_count": null,
   "metadata": {},
   "outputs": [],
   "source": []
  },
  {
   "cell_type": "markdown",
   "metadata": {},
   "source": [
    "# Propagating error of Wavelength"
   ]
  },
  {
   "cell_type": "code",
   "execution_count": 75,
   "metadata": {},
   "outputs": [
    {
     "name": "stdout",
     "output_type": "stream",
     "text": [
      "[10.388207202533845, 10.388207202533845, 10.388207202533845, 10.388207202533845, 14.151375153151564, 14.151375153151564, 14.151375153151564, 14.151375153151564]\n"
     ]
    }
   ],
   "source": [
    "L1 = []\n",
    "L2 = []\n",
    "\n",
    "for i in range(4):\n",
    "\n",
    "    tha1 = gd.D[0] * (math.cos(math.pi*rb.G1[i]/180))\n",
    "    tha2 = gd.D[0] * (math.cos(math.pi*rb.G2[i]/180))\n",
    "    thae1 = (tha1**(2)) * (math.pi*rb.E1[i]/180)**2 \n",
    "    thae2 = (tha2**(2)) * (math.pi*rb.E2[i]/180)**2 \n",
    "    \n",
    "    d1 = math.cos(math.pi*rb.G1[i]/180)\n",
    "    d2 = math.cos(math.pi*rb.G2[i]/180)\n",
    "    de1 = (d1**(2)) * (error_d**2)\n",
    "    de2 = (d2**(2)) * (error_d**2)\n",
    "    \n",
    "    sumy1 = (the1 + lae1) ** (1/2)\n",
    "    sumy2 = (the2 + lae2) ** (1/2)\n",
    "    \n",
    "    L1.append(sumy1)\n",
    "    L2.append(sumy2)\n",
    "    L = L1 + L2\n",
    "\n",
    "\n",
    "print(L)"
   ]
  },
  {
   "cell_type": "markdown",
   "metadata": {},
   "source": [
    "# Propagating error of Rydberg"
   ]
  },
  {
   "cell_type": "code",
   "execution_count": 84,
   "metadata": {},
   "outputs": [
    {
     "name": "stdout",
     "output_type": "stream",
     "text": [
      "[4.1085900000000004e-07, 4.35184e-07, 4.8568e-07, 6.53843e-07, 4.1085900000000004e-07, 4.33218e-07, 4.866700000000001e-07, 6.56556e-07]\n",
      "[0.222222222, 0.21, 0.1875, 0.13888888900000002, 0.222222222, 0.21, 0.1875, 0.13888888900000002]\n",
      "[1.0388207202533846e-08, 1.0388207202533846e-08, 1.0388207202533846e-08, 1.0388207202533846e-08, 1.4151375153151565e-08, 1.4151375153151565e-08, 1.4151375153151565e-08, 1.4151375153151565e-08]\n"
     ]
    }
   ],
   "source": [
    "lam = [rb.m_L1[i] for i in range(4)] + [rb.m_L2[i] for i in range(4)]\n",
    "para = [rb.para[i] for i in range(4)] + [rb.para[i] for i in range(4)]\n",
    "L = [L[i]*(1e-9) for i in range(8)]\n",
    "\n",
    "\n",
    "print(lam)\n",
    "print(para)\n",
    "print(L)"
   ]
  },
  {
   "cell_type": "code",
   "execution_count": 89,
   "metadata": {},
   "outputs": [
    {
     "name": "stdout",
     "output_type": "stream",
     "text": [
      "the error of RH is 812000.2538068052\n"
     ]
    },
    {
     "data": {
      "text/plain": [
       "0.07399490742117341"
      ]
     },
     "execution_count": 89,
     "metadata": {},
     "output_type": "execute_result"
    }
   ],
   "source": [
    "LE = []\n",
    "for i in range(8):\n",
    "    dlam = (-1) * 1/(lam[i]**2 * para[i])\n",
    "    dlame = (dlam**2) * (L[i])**2 \n",
    "    LE.append(dlame)\n",
    "    sumy = sum(LE)**(1/2)\n",
    "\n",
    "print('the error of RH is',sumy)\n",
    "sumy/rb.RHR[0]"
   ]
  },
  {
   "cell_type": "code",
   "execution_count": 120,
   "metadata": {},
   "outputs": [
    {
     "data": {
      "text/html": [
       "<div>\n",
       "<style scoped>\n",
       "    .dataframe tbody tr th:only-of-type {\n",
       "        vertical-align: middle;\n",
       "    }\n",
       "\n",
       "    .dataframe tbody tr th {\n",
       "        vertical-align: top;\n",
       "    }\n",
       "\n",
       "    .dataframe thead th {\n",
       "        text-align: right;\n",
       "    }\n",
       "</style>\n",
       "<table border=\"1\" class=\"dataframe\">\n",
       "  <thead>\n",
       "    <tr style=\"text-align: right;\">\n",
       "      <th></th>\n",
       "      <th>G1</th>\n",
       "      <th>E1</th>\n",
       "      <th>G2</th>\n",
       "      <th>E2</th>\n",
       "      <th>SING1</th>\n",
       "      <th>SING1E</th>\n",
       "      <th>SING2</th>\n",
       "      <th>SING2E</th>\n",
       "      <th>LAM1</th>\n",
       "      <th>LAME1</th>\n",
       "      <th>...</th>\n",
       "      <th>m_L2</th>\n",
       "      <th>m_L2e</th>\n",
       "      <th>para</th>\n",
       "      <th>RH1</th>\n",
       "      <th>RHe1</th>\n",
       "      <th>RH2</th>\n",
       "      <th>RHe2</th>\n",
       "      <th>RH_w</th>\n",
       "      <th>RHR</th>\n",
       "      <th>RHE</th>\n",
       "    </tr>\n",
       "  </thead>\n",
       "  <tbody>\n",
       "    <tr>\n",
       "      <th>0</th>\n",
       "      <td>7.0000</td>\n",
       "      <td>0.300</td>\n",
       "      <td>7.000</td>\n",
       "      <td>0.300</td>\n",
       "      <td>0.121869</td>\n",
       "      <td>0.005236</td>\n",
       "      <td>0.121869</td>\n",
       "      <td>0.005236</td>\n",
       "      <td>410.859336</td>\n",
       "      <td>17.652057</td>\n",
       "      <td>...</td>\n",
       "      <td>4.108590e-07</td>\n",
       "      <td>1.765210e-08</td>\n",
       "      <td>0.222222</td>\n",
       "      <td>10952653.64</td>\n",
       "      <td>2.549278e+08</td>\n",
       "      <td>10952653.64</td>\n",
       "      <td>2.549278e+08</td>\n",
       "      <td>10976876.63</td>\n",
       "      <td>10973731.6</td>\n",
       "      <td>0.02866</td>\n",
       "    </tr>\n",
       "    <tr>\n",
       "      <th>1</th>\n",
       "      <td>7.4167</td>\n",
       "      <td>0.033</td>\n",
       "      <td>7.383</td>\n",
       "      <td>0.083</td>\n",
       "      <td>0.129085</td>\n",
       "      <td>0.000576</td>\n",
       "      <td>0.128501</td>\n",
       "      <td>0.001449</td>\n",
       "      <td>435.184316</td>\n",
       "      <td>1.941735</td>\n",
       "      <td>...</td>\n",
       "      <td>4.332180e-07</td>\n",
       "      <td>4.883760e-09</td>\n",
       "      <td>0.210000</td>\n",
       "      <td>10942271.10</td>\n",
       "      <td>2.452397e+09</td>\n",
       "      <td>10991938.89</td>\n",
       "      <td>9.750496e+08</td>\n",
       "      <td>NaN</td>\n",
       "      <td>NaN</td>\n",
       "      <td>NaN</td>\n",
       "    </tr>\n",
       "    <tr>\n",
       "      <th>2</th>\n",
       "      <td>8.2830</td>\n",
       "      <td>0.033</td>\n",
       "      <td>8.300</td>\n",
       "      <td>0.083</td>\n",
       "      <td>0.144063</td>\n",
       "      <td>0.000576</td>\n",
       "      <td>0.144356</td>\n",
       "      <td>0.001449</td>\n",
       "      <td>485.679672</td>\n",
       "      <td>1.941735</td>\n",
       "      <td>...</td>\n",
       "      <td>4.866700e-07</td>\n",
       "      <td>4.883760e-09</td>\n",
       "      <td>0.187500</td>\n",
       "      <td>10981174.71</td>\n",
       "      <td>2.746684e+09</td>\n",
       "      <td>10958840.22</td>\n",
       "      <td>1.092056e+09</td>\n",
       "      <td>NaN</td>\n",
       "      <td>NaN</td>\n",
       "      <td>NaN</td>\n",
       "    </tr>\n",
       "    <tr>\n",
       "      <th>3</th>\n",
       "      <td>11.1830</td>\n",
       "      <td>0.033</td>\n",
       "      <td>11.230</td>\n",
       "      <td>0.033</td>\n",
       "      <td>0.193943</td>\n",
       "      <td>0.000576</td>\n",
       "      <td>0.194748</td>\n",
       "      <td>0.000576</td>\n",
       "      <td>653.842944</td>\n",
       "      <td>1.941735</td>\n",
       "      <td>...</td>\n",
       "      <td>6.565560e-07</td>\n",
       "      <td>1.941740e-09</td>\n",
       "      <td>0.138889</td>\n",
       "      <td>11011818.75</td>\n",
       "      <td>3.708024e+09</td>\n",
       "      <td>10966319.86</td>\n",
       "      <td>3.708024e+09</td>\n",
       "      <td>NaN</td>\n",
       "      <td>NaN</td>\n",
       "      <td>NaN</td>\n",
       "    </tr>\n",
       "    <tr>\n",
       "      <th>4</th>\n",
       "      <td>NaN</td>\n",
       "      <td>NaN</td>\n",
       "      <td>NaN</td>\n",
       "      <td>NaN</td>\n",
       "      <td>NaN</td>\n",
       "      <td>NaN</td>\n",
       "      <td>NaN</td>\n",
       "      <td>NaN</td>\n",
       "      <td>NaN</td>\n",
       "      <td>NaN</td>\n",
       "      <td>...</td>\n",
       "      <td>NaN</td>\n",
       "      <td>NaN</td>\n",
       "      <td>NaN</td>\n",
       "      <td>10952653.64</td>\n",
       "      <td>2.549278e+08</td>\n",
       "      <td>NaN</td>\n",
       "      <td>NaN</td>\n",
       "      <td>NaN</td>\n",
       "      <td>NaN</td>\n",
       "      <td>NaN</td>\n",
       "    </tr>\n",
       "    <tr>\n",
       "      <th>5</th>\n",
       "      <td>NaN</td>\n",
       "      <td>NaN</td>\n",
       "      <td>NaN</td>\n",
       "      <td>NaN</td>\n",
       "      <td>NaN</td>\n",
       "      <td>NaN</td>\n",
       "      <td>NaN</td>\n",
       "      <td>NaN</td>\n",
       "      <td>NaN</td>\n",
       "      <td>NaN</td>\n",
       "      <td>...</td>\n",
       "      <td>NaN</td>\n",
       "      <td>NaN</td>\n",
       "      <td>NaN</td>\n",
       "      <td>10991938.89</td>\n",
       "      <td>9.750496e+08</td>\n",
       "      <td>NaN</td>\n",
       "      <td>NaN</td>\n",
       "      <td>NaN</td>\n",
       "      <td>NaN</td>\n",
       "      <td>NaN</td>\n",
       "    </tr>\n",
       "    <tr>\n",
       "      <th>6</th>\n",
       "      <td>NaN</td>\n",
       "      <td>NaN</td>\n",
       "      <td>NaN</td>\n",
       "      <td>NaN</td>\n",
       "      <td>NaN</td>\n",
       "      <td>NaN</td>\n",
       "      <td>NaN</td>\n",
       "      <td>NaN</td>\n",
       "      <td>NaN</td>\n",
       "      <td>NaN</td>\n",
       "      <td>...</td>\n",
       "      <td>NaN</td>\n",
       "      <td>NaN</td>\n",
       "      <td>NaN</td>\n",
       "      <td>10958840.22</td>\n",
       "      <td>1.092056e+09</td>\n",
       "      <td>NaN</td>\n",
       "      <td>NaN</td>\n",
       "      <td>NaN</td>\n",
       "      <td>NaN</td>\n",
       "      <td>NaN</td>\n",
       "    </tr>\n",
       "    <tr>\n",
       "      <th>7</th>\n",
       "      <td>NaN</td>\n",
       "      <td>NaN</td>\n",
       "      <td>NaN</td>\n",
       "      <td>NaN</td>\n",
       "      <td>NaN</td>\n",
       "      <td>NaN</td>\n",
       "      <td>NaN</td>\n",
       "      <td>NaN</td>\n",
       "      <td>NaN</td>\n",
       "      <td>NaN</td>\n",
       "      <td>...</td>\n",
       "      <td>NaN</td>\n",
       "      <td>NaN</td>\n",
       "      <td>NaN</td>\n",
       "      <td>10966319.86</td>\n",
       "      <td>3.708024e+09</td>\n",
       "      <td>NaN</td>\n",
       "      <td>NaN</td>\n",
       "      <td>NaN</td>\n",
       "      <td>NaN</td>\n",
       "      <td>NaN</td>\n",
       "    </tr>\n",
       "  </tbody>\n",
       "</table>\n",
       "<p>8 rows × 24 columns</p>\n",
       "</div>"
      ],
      "text/plain": [
       "        G1     E1      G2     E2     SING1    SING1E     SING2    SING2E  \\\n",
       "0   7.0000  0.300   7.000  0.300  0.121869  0.005236  0.121869  0.005236   \n",
       "1   7.4167  0.033   7.383  0.083  0.129085  0.000576  0.128501  0.001449   \n",
       "2   8.2830  0.033   8.300  0.083  0.144063  0.000576  0.144356  0.001449   \n",
       "3  11.1830  0.033  11.230  0.033  0.193943  0.000576  0.194748  0.000576   \n",
       "4      NaN    NaN     NaN    NaN       NaN       NaN       NaN       NaN   \n",
       "5      NaN    NaN     NaN    NaN       NaN       NaN       NaN       NaN   \n",
       "6      NaN    NaN     NaN    NaN       NaN       NaN       NaN       NaN   \n",
       "7      NaN    NaN     NaN    NaN       NaN       NaN       NaN       NaN   \n",
       "\n",
       "         LAM1      LAME1   ...             m_L2         m_L2e      para  \\\n",
       "0  410.859336  17.652057   ...     4.108590e-07  1.765210e-08  0.222222   \n",
       "1  435.184316   1.941735   ...     4.332180e-07  4.883760e-09  0.210000   \n",
       "2  485.679672   1.941735   ...     4.866700e-07  4.883760e-09  0.187500   \n",
       "3  653.842944   1.941735   ...     6.565560e-07  1.941740e-09  0.138889   \n",
       "4         NaN        NaN   ...              NaN           NaN       NaN   \n",
       "5         NaN        NaN   ...              NaN           NaN       NaN   \n",
       "6         NaN        NaN   ...              NaN           NaN       NaN   \n",
       "7         NaN        NaN   ...              NaN           NaN       NaN   \n",
       "\n",
       "           RH1          RHe1          RH2          RHe2         RH_w  \\\n",
       "0  10952653.64  2.549278e+08  10952653.64  2.549278e+08  10976876.63   \n",
       "1  10942271.10  2.452397e+09  10991938.89  9.750496e+08          NaN   \n",
       "2  10981174.71  2.746684e+09  10958840.22  1.092056e+09          NaN   \n",
       "3  11011818.75  3.708024e+09  10966319.86  3.708024e+09          NaN   \n",
       "4  10952653.64  2.549278e+08          NaN           NaN          NaN   \n",
       "5  10991938.89  9.750496e+08          NaN           NaN          NaN   \n",
       "6  10958840.22  1.092056e+09          NaN           NaN          NaN   \n",
       "7  10966319.86  3.708024e+09          NaN           NaN          NaN   \n",
       "\n",
       "          RHR      RHE  \n",
       "0  10973731.6  0.02866  \n",
       "1         NaN      NaN  \n",
       "2         NaN      NaN  \n",
       "3         NaN      NaN  \n",
       "4         NaN      NaN  \n",
       "5         NaN      NaN  \n",
       "6         NaN      NaN  \n",
       "7         NaN      NaN  \n",
       "\n",
       "[8 rows x 24 columns]"
      ]
     },
     "execution_count": 120,
     "metadata": {},
     "output_type": "execute_result"
    }
   ],
   "source": [
    "rb"
   ]
  },
  {
   "cell_type": "code",
   "execution_count": 17,
   "metadata": {},
   "outputs": [
    {
     "name": "stderr",
     "output_type": "stream",
     "text": [
      "/usr/local/anaconda3/lib/python3.6/site-packages/matplotlib/cbook/deprecation.py:106: MatplotlibDeprecationWarning: The axisbg attribute was deprecated in version 2.0. Use facecolor instead.\n",
      "  warnings.warn(message, mplDeprecation, stacklevel=1)\n"
     ]
    },
    {
     "data": {
      "text/plain": [
       "[]"
      ]
     },
     "execution_count": 17,
     "metadata": {},
     "output_type": "execute_result"
    },
    {
     "data": {
      "image/png": "[encoded data removed]",
      "text/plain": [
       "<matplotlib.figure.Figure at 0x7f482145c128>"
      ]
     },
     "metadata": {},
     "output_type": "display_data"
    }
   ],
   "source": [
    "cmap_r = matplotlib.cm.get_cmap('Spectral_r')\n",
    "x = (rb.G1+rb.G2)/2\n",
    "y = [0,0,0,0,0,0,0,0]\n",
    "cl=(rb.LAM1+rb.LAM2)/2\n",
    "f=plt.figure(figsize=(12, 2), dpi=80)\n",
    "fig = plt.figure(1)\n",
    "ax = fig.add_subplot(111, axisbg='black')\n",
    "ax.scatter(x,y,c = cl, cmap = cmap_r,marker='|',s=10000)\n",
    "fig.canvas.draw()\n",
    "plt.xlabel('$\\Theta$(degrees)')\n",
    "plt.ylabel('Group 1 / Group 2')\n",
    "ax.set_yticklabels([])"
   ]
  },
  {
   "cell_type": "code",
   "execution_count": null,
   "metadata": {},
   "outputs": [],
   "source": []
  }
 ],
 "metadata": {
  "kernelspec": {
   "display_name": "Python 3.6",
   "language": "python",
   "name": "python36"
  },
  "language_info": {
   "codemirror_mode": {
    "name": "ipython",
    "version": 3
   },
   "file_extension": ".py",
   "mimetype": "text/x-python",
   "name": "python",
   "nbconvert_exporter": "python",
   "pygments_lexer": "ipython3",
   "version": "3.6.4"
  }
 },
 "nbformat": 4,
 "nbformat_minor": 2
}
