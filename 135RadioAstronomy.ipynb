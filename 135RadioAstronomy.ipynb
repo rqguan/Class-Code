{
 "cells": [
  {
   "cell_type": "code",
   "execution_count": 119,
   "metadata": {},
   "outputs": [],
   "source": [
    "#first import our packages\n",
    "import numpy as np\n",
    "from matplotlib.pyplot import *\n",
    "from astropy.io import ascii\n",
    "from astropy.io import fits\n",
    "import matplotlib.patches as mpatches\n",
    "import matplotlib.pyplot as plt\n",
    "import scipy.optimize as opt\n",
    "import scipy.stats as stat\n",
    "import pandas as pd \n"
   ]
  },
  {
   "cell_type": "code",
   "execution_count": 120,
   "metadata": {},
   "outputs": [
    {
     "data": {
      "text/plain": [
       "2169.1973969631235"
      ]
     },
     "execution_count": 120,
     "metadata": {},
     "output_type": "execute_result"
    }
   ],
   "source": [
    "db = -102.4\n",
    "#=7634763939698.856*(10^(C2/10))\n",
    "\n",
    "#mwatt = 10**(db/10) #=10^(C2/10)\n",
    "mwatt = 1\n",
    "watt = mwatt/1e3\n",
    "hz = watt/30000\n",
    "\n",
    "\n",
    "cab = hz*(10**0.2)\n",
    "\n",
    "LNA = cab/(10**3.7)\n",
    "\n",
    "dpdf = (LNA*2*2)/0.2\n",
    "\n",
    "TB = (1/(2*1.38064852e-23))*dpdf \n",
    "\n",
    "TB = 50\n",
    "\n",
    "Bin = TB*0.913 # =F2*1000000/461\n",
    "\n",
    "\n",
    "\n",
    "# integration \n",
    "# SUM(G130,G350)\n",
    "1000000/461"
   ]
  },
  {
   "cell_type": "code",
   "execution_count": 121,
   "metadata": {},
   "outputs": [
    {
     "ename": "NameError",
     "evalue": "name 'D351' is not defined",
     "output_type": "error",
     "traceback": [
      "\u001b[0;31m---------------------------------------------------------------------------\u001b[0m",
      "\u001b[0;31mNameError\u001b[0m                                 Traceback (most recent call last)",
      "\u001b[0;32m<ipython-input-121-6b5ef895297d>\u001b[0m in \u001b[0;36m<module>\u001b[0;34m\u001b[0m\n\u001b[1;32m      3\u001b[0m \u001b[0mx2\u001b[0m \u001b[0;34m=\u001b[0m \u001b[0;36m350\u001b[0m\u001b[0;34m\u001b[0m\u001b[0;34m\u001b[0m\u001b[0m\n\u001b[1;32m      4\u001b[0m \u001b[0my2\u001b[0m \u001b[0;34m=\u001b[0m \u001b[0;36m421.319\u001b[0m\u001b[0;34m\u001b[0m\u001b[0;34m\u001b[0m\u001b[0m\n\u001b[0;32m----> 5\u001b[0;31m \u001b[0mk\u001b[0m \u001b[0;34m=\u001b[0m \u001b[0;34m(\u001b[0m\u001b[0mD351\u001b[0m\u001b[0;34m-\u001b[0m\u001b[0mD131\u001b[0m\u001b[0;34m)\u001b[0m\u001b[0;34m/\u001b[0m\u001b[0;34m(\u001b[0m\u001b[0;36m350\u001b[0m\u001b[0;34m-\u001b[0m\u001b[0;36m130\u001b[0m\u001b[0;34m)\u001b[0m\u001b[0;34m\u001b[0m\u001b[0;34m\u001b[0m\u001b[0m\n\u001b[0m\u001b[1;32m      6\u001b[0m \u001b[0mb\u001b[0m \u001b[0;34m=\u001b[0m \u001b[0;34m(\u001b[0m\u001b[0mD131\u001b[0m\u001b[0;34m-\u001b[0m\u001b[0;34m(\u001b[0m\u001b[0;34m(\u001b[0m\u001b[0mD351\u001b[0m\u001b[0;34m-\u001b[0m\u001b[0mD131\u001b[0m\u001b[0;34m)\u001b[0m\u001b[0;34m/\u001b[0m\u001b[0;34m(\u001b[0m\u001b[0;36m350\u001b[0m\u001b[0;34m-\u001b[0m\u001b[0;36m130\u001b[0m\u001b[0;34m)\u001b[0m\u001b[0;34m)\u001b[0m\u001b[0;34m*\u001b[0m\u001b[0;36m130\u001b[0m\u001b[0;34m)\u001b[0m\u001b[0;34m\u001b[0m\u001b[0;34m\u001b[0m\u001b[0m\n\u001b[1;32m      7\u001b[0m \u001b[0;31m# = ((D351-D131)/(350-130))*A2+(D131-((D351-D131)/(350-130))*130)\u001b[0m\u001b[0;34m\u001b[0m\u001b[0;34m\u001b[0m\u001b[0;34m\u001b[0m\u001b[0m\n",
      "\u001b[0;31mNameError\u001b[0m: name 'D351' is not defined"
     ]
    }
   ],
   "source": [
    "x1 = 130\n",
    "y1 = 430.441\n",
    "x2 = 350\n",
    "y2 = 421.319\n",
    "k = (D351-D131)/(350-130)\n",
    "b = (D131-((D351-D131)/(350-130))*130)\n",
    "# = ((D351-D131)/(350-130))*A2+(D131-((D351-D131)/(350-130))*130)\n",
    "print(k,b)"
   ]
  },
  {
   "cell_type": "code",
   "execution_count": 137,
   "metadata": {},
   "outputs": [
    {
     "data": {
      "text/plain": [
       "1.82765716e+23"
      ]
     },
     "execution_count": 137,
     "metadata": {},
     "output_type": "execute_result"
    }
   ],
   "source": [
    "time = [0,10,20,30,40,50,60,70,80,90,100,110,120,130,140,150,160,170,180]\n",
    "        \n",
    "inte = [1.617561867E+19,1.73695E+19,2.202275358E+19,4.1182E+19,2.225668391E+19,2.95258E+19,7.11525E+18,2.91245E+19,1.43455E+19,2.782383240E+19,2.562081902E+19,2.87704E+19,2.55575E+19,3.81526E+19,2.5015E+19,2.661454917E+19,2.840442329E+19,2.83562E+19,2.248667912E+19]\n",
    "\n",
    "inte1 = []\n",
    "ye1 = []\n",
    "for i in inte:\n",
    "    i = i*4438\n",
    "    inte1.append(i)\n",
    "    \n",
    "\n",
    "ye = [1e19,1e19,1e19,1e19,1e19,1e19,1e19,1e19,1e19,1e19,1e19,1e19,1e19,1e19,1e19,1e19,1e19,1e19,1e19]\n",
    "\n",
    "for i in ye:\n",
    "    i = i*4438\n",
    "    ye1.append(i)\n",
    "max(inte1)"
   ]
  },
  {
   "cell_type": "code",
   "execution_count": 138,
   "metadata": {},
   "outputs": [
    {
     "name": "stdout",
     "output_type": "stream",
     "text": [
      "results\n",
      "slope = 168295793359891169280.000 +/- 1754385964912281966517443570434048.000\n",
      "intercept = 96018179937192971862016.000 +/- 19473684210526336825424235090772230144.000\n"
     ]
    }
   ],
   "source": [
    "def linfit(xdata, ydata, yerror):\n",
    "    def U(n):\n",
    "        U_n = sum((xdata**n)/(yerror**2), 0)\n",
    "        return U_n\n",
    "    def W(n): \n",
    "        W_n = sum(ydata * (xdata**n) / (yerror**2)) \n",
    "        return W_n\n",
    "    D = U(0) * U(2) - (U(1)**2)\n",
    "    slope = (U(0)*W(1) - U(1)*W(0)) / D\n",
    "    intercept = (U(2)*W(0) - U(1)*W(1)) / D\n",
    "    sigma_slope = U(0)/D\n",
    "    sigma_intercept = U(2)/D\n",
    "    print(\"results\")\n",
    "    print(\"slope = %.3f +/- %.3f\"%(slope, sigma_slope))\n",
    "    print(\"intercept = %.3f +/- %.3f\"%(intercept, sigma_intercept))\n",
    "\n",
    "linfit(np.array(time),np.array(inte1),np.array(ye))"
   ]
  },
  {
   "cell_type": "code",
   "execution_count": 140,
   "metadata": {},
   "outputs": [
    {
     "data": {
      "text/plain": [
       "<matplotlib.legend.Legend at 0x7fbcfc96c390>"
      ]
     },
     "execution_count": 140,
     "metadata": {},
     "output_type": "execute_result"
    },
    {
     "data": {
      "image/png": "[encoded data removed]",
      "text/plain": [
       "<Figure size 432x288 with 1 Axes>"
      ]
     },
     "metadata": {
      "needs_background": "light"
     },
     "output_type": "display_data"
    }
   ],
   "source": [
    "j = np.linspace(0,180)\n",
    "k = 168295793359891169280.000 * j + 96018179937192971862016.00\n",
    "plot(j,k,c='k',alpha=0.4,label='linear fit')\n",
    "\n",
    "plt.scatter(time,inte1)\n",
    "plt.xlabel(r'Time(min)')\n",
    "plt.ylabel(r'Hydrogen Column Density($cm^{-2}$)')\n",
    "grid()\n",
    "errorbar(time,inte1, yerr=ye1, xerr = 0, fmt='.',label='error',c='r',alpha=0.3)\n",
    "legend(loc=4, frameon=False)"
   ]
  },
  {
   "cell_type": "code",
   "execution_count": null,
   "metadata": {},
   "outputs": [],
   "source": []
  }
 ],
 "metadata": {
  "kernelspec": {
   "display_name": "Python 3",
   "language": "python",
   "name": "python3"
  },
  "language_info": {
   "codemirror_mode": {
    "name": "ipython",
    "version": 3
   },
   "file_extension": ".py",
   "mimetype": "text/x-python",
   "name": "python",
   "nbconvert_exporter": "python",
   "pygments_lexer": "ipython3",
   "version": "3.7.1"
  }
 },
 "nbformat": 4,
 "nbformat_minor": 2
}
