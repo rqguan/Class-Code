{
 "cells": [
  {
   "cell_type": "code",
   "execution_count": 1,
   "metadata": {},
   "outputs": [],
   "source": [
    "from __future__ import division\n",
    "from astropy.io import fits\n",
    "import os\n",
    "import glob\n",
    "import copy\n",
    "import numpy as np\n",
    "from astropy.table import Table, Column\n",
    "import astropy.wcs as wcs\n",
    "from astropy.convolution import Gaussian2DKernel\n",
    "from astropy.convolution import convolve\n",
    "from astropy.io import ascii\n",
    "import sys\n",
    "\n",
    "# masking\n",
    "from kungpao import imtools\n",
    "import sep\n",
    "import matplotlib.pyplot as plt\n",
    "import copy\n",
    "\n",
    "sep.set_extract_pixstack(30000000)\n",
    "from IPython.display import clear_output\n",
    "\n",
    "# Sample coordinates to get AIRMASS\n",
    "from astropy.visualization import astropy_mpl_style\n",
    "plt.style.use(astropy_mpl_style)\n",
    "import astropy.units as u\n",
    "from astropy.time import Time\n",
    "from astropy.coordinates import SkyCoord, EarthLocation, AltAz"
   ]
  },
  {
   "cell_type": "code",
   "execution_count": 290,
   "metadata": {},
   "outputs": [],
   "source": [
    "# define path\n",
    "\n",
    "path = \"/home/enzo/135/08\""
   ]
  },
  {
   "cell_type": "code",
   "execution_count": 291,
   "metadata": {},
   "outputs": [],
   "source": [
    "os.chdir(path)\n",
    "filename = glob.glob('*')"
   ]
  },
  {
   "cell_type": "code",
   "execution_count": 181,
   "metadata": {},
   "outputs": [],
   "source": [
    "# time-Airmass\n",
    "\n",
    "# sample stars\n",
    "alb = SkyCoord.from_name('Albireo')\n",
    "\n",
    "zeta_aql = SkyCoord.from_name('Zeta Aquilae')\n",
    "gama_lyr = SkyCoord.from_name('Sulafat')\n",
    "beta_apl = SkyCoord.from_name('Alshain')\n",
    "alp_del = SkyCoord.from_name('Sualocin')\n",
    "alp_peg = SkyCoord.from_name('Markab')\n",
    "\n",
    "\n",
    "\n"
   ]
  },
  {
   "cell_type": "markdown",
   "metadata": {},
   "source": [
    "\n",
    "time = Time('2018-11-4 19:00:00') - utcoffset\n",
    "midnight = Time('2018-11-15 00:00:00') - utcoffset\n",
    "delta_midnight = np.linspace(-7, 1, 100)*u.hour\n",
    "frame = AltAz(obstime=time,\n",
    "                          location=JBE)\n",
    "altazs = alb.transform_to(frame)\n",
    "airmass = altazs.secz\n",
    "'''\n",
    "\n",
    "\n",
    "\n",
    "plt.plot(delta_midnight, airmass)\n",
    "plt.xlim(-7, 1)\n",
    "plt.ylim(1, 4)\n",
    "plt.xlabel('ours from EDT Midnight')\n",
    "plt.ylabel('Airmass [Sec(z)]')\n",
    "plt.show()\n",
    "'''"
   ]
  },
  {
   "cell_type": "markdown",
   "metadata": {},
   "source": [
    "print(altazs)\n",
    "print(altazs.secz)"
   ]
  },
  {
   "cell_type": "code",
   "execution_count": 312,
   "metadata": {},
   "outputs": [],
   "source": [
    "JBE = EarthLocation(lat=37.005*u.deg, lon=-122.0631*u.deg, height=249*u.m)\n",
    "utcoffset = -8*u.hour  # Eastern Daylight Time\n",
    "\n",
    "\n",
    "time_set = []\n",
    "exptime = []\n",
    "band = []\n",
    "airmass_set = []\n",
    "for name in filename:\n",
    "    file = fits.open(name)\n",
    "    hh = int(file[0].header['DATE-OBS'][11:][:2])\n",
    "    mm = int(file[0].header['DATE-OBS'][11:][3:5])\n",
    "    ss = int(file[0].header['DATE-OBS'][11:][6:8])\n",
    "    time_set.append(hh + mm/60 + ss/3600)\n",
    "    exptime.append(file[0].header['EXPTIME'])\n",
    "    band.append(file[0].header['FILTER'])\n",
    "    # airmass\n",
    "    time_format = str(file[0].header['DATE-OBS'][:10])+\" \"+str(hh)+':'+str(mm)+':'+str(ss)\n",
    "    obst = Time(time_format)-utcoffset\n",
    "    frame = AltAz(obstime=obst,location=JBE)\n",
    "    # air mass : change star:\n",
    "    star_alt = alp_del.transform_to(frame)\n",
    "    airmass = star_alt.secz\n",
    "    airmass_set.append(airmass)"
   ]
  },
  {
   "cell_type": "code",
   "execution_count": 313,
   "metadata": {},
   "outputs": [],
   "source": [
    "timeset = Column(name='time', data=np.array(time_set), dtype=np.float64)\n",
    "exptime = Column(name='exptime', data=np.array(exptime))\n",
    "filename = Column(name='filename', data=filename)\n",
    "band = Column(name='band', data=band)\n",
    "airmassset = Column(name='airmass', data=airmass_set)\n",
    "\n",
    "catalog = Table([filename, timeset ,exptime, band, airmassset])"
   ]
  },
  {
   "cell_type": "code",
   "execution_count": 314,
   "metadata": {},
   "outputs": [],
   "source": [
    "catalog.sort('band')"
   ]
  },
  {
   "cell_type": "code",
   "execution_count": 315,
   "metadata": {},
   "outputs": [
    {
     "data": {
      "text/plain": [
       "array([False, False, False, False, False, False, False, False, False,\n",
       "       False, False, False, False, False, False, False, False, False,\n",
       "       False, False, False, False, False, False, False, False, False,\n",
       "       False,  True,  True,  True,  True,  True,  True,  True,  True,\n",
       "        True,  True,  True,  True,  True,  True,  True,  True, False,\n",
       "       False, False, False, False, False, False, False, False, False,\n",
       "       False, False, False, False, False, False, False, False, False,\n",
       "       False, False, False, False, False, False, False, False])"
      ]
     },
     "execution_count": 315,
     "metadata": {},
     "output_type": "execute_result"
    }
   ],
   "source": [
    "catalog['band']=='Red'"
   ]
  },
  {
   "cell_type": "code",
   "execution_count": 316,
   "metadata": {},
   "outputs": [
    {
     "data": {
      "text/html": [
       "&lt;Column name=&apos;time&apos; dtype=&apos;float64&apos; length=16&gt;\n",
       "<table>\n",
       "<tr><td>21.239722222222223</td></tr>\n",
       "<tr><td>21.141388888888887</td></tr>\n",
       "<tr><td>21.129444444444445</td></tr>\n",
       "<tr><td>21.138333333333332</td></tr>\n",
       "<tr><td>21.13277777777778</td></tr>\n",
       "<tr><td>21.136666666666667</td></tr>\n",
       "<tr><td>21.248055555555556</td></tr>\n",
       "<tr><td>21.250555555555554</td></tr>\n",
       "<tr><td>21.244722222222222</td></tr>\n",
       "<tr><td>21.139722222222222</td></tr>\n",
       "<tr><td>21.129444444444445</td></tr>\n",
       "<tr><td>21.244722222222222</td></tr>\n",
       "<tr><td>21.241111111111113</td></tr>\n",
       "<tr><td>21.249166666666667</td></tr>\n",
       "<tr><td>21.246944444444445</td></tr>\n",
       "<tr><td>21.13277777777778</td></tr>\n",
       "</table>"
      ],
      "text/plain": [
       "<Column name='time' dtype='float64' length=16>\n",
       "21.239722222222223\n",
       "21.141388888888887\n",
       "21.129444444444445\n",
       "21.138333333333332\n",
       " 21.13277777777778\n",
       "21.136666666666667\n",
       "21.248055555555556\n",
       "21.250555555555554\n",
       "21.244722222222222\n",
       "21.139722222222222\n",
       "21.129444444444445\n",
       "21.244722222222222\n",
       "21.241111111111113\n",
       "21.249166666666667\n",
       "21.246944444444445\n",
       " 21.13277777777778"
      ]
     },
     "execution_count": 316,
     "metadata": {},
     "output_type": "execute_result"
    }
   ],
   "source": [
    "catalog['time'][catalog['band']=='Red']"
   ]
  },
  {
   "cell_type": "code",
   "execution_count": 317,
   "metadata": {},
   "outputs": [],
   "source": [
    "def extract_obj(img, b=30, f=5, sigma=5, show_fig=True, pixel_scale=0.168, minarea=5, \n",
    "    deblend_nthresh=32, deblend_cont=0.005, clean_param=1.0):\n",
    "    '''Extract objects for a given image, using `sep`.\n",
    "    Parameters:\n",
    "    ----------\n",
    "    img: 2-D numpy array\n",
    "    b: float, size of box\n",
    "    f: float, size of convolving kernel\n",
    "    sigma: float, detection threshold\n",
    "    pixel_scale: float\n",
    "    Returns:\n",
    "    -------\n",
    "    objects: numpy array, containing the positions and shapes of extracted objects.\n",
    "    segmap: 2-D numpy array, segmentation map\n",
    "    '''\n",
    "\n",
    "    # Subtract a mean sky value to achieve better object detection\n",
    "    b = 30  # Box size\n",
    "    f = 5   # Filter width\n",
    "    bkg = sep.Background(img, bw=b, bh=b, fw=f, fh=f)\n",
    "    data_sub = img - bkg.back()\n",
    "\n",
    "    sigma = sigma\n",
    "    objects, segmap = sep.extract(data_sub,\n",
    "                                  sigma,\n",
    "                                  err=bkg.globalrms,\n",
    "                                  segmentation_map=True,\n",
    "                                  filter_type='matched',\n",
    "                                  deblend_nthresh=deblend_nthresh,\n",
    "                                  deblend_cont=deblend_cont,\n",
    "                                  clean=True,\n",
    "                                  clean_param=clean_param,\n",
    "                                  minarea=minarea)\n",
    "                                  \n",
    "    print(\"# Detect %d objects\" % len(objects))\n",
    "\n",
    "    # plot background-subtracted image\n",
    "    if show_fig:\n",
    "        fig, ax = plt.subplots(1,2, figsize=(12,6))\n",
    "\n",
    "        ax[0] = display_single(data_sub, ax=ax[0], scale_bar_length=60, pixel_scale=pixel_scale)\n",
    "\n",
    "        # plot an ellipse for each object\n",
    "        for obj in objects:\n",
    "            e = Ellipse(xy=(obj['x'], obj['y']),\n",
    "                        width=8*obj['a'],\n",
    "                        height=8*obj['b'],\n",
    "                        angle=obj['theta'] * 180. / np.pi)\n",
    "            e.set_facecolor('none')\n",
    "            e.set_edgecolor('Red')\n",
    "            ax[0].add_artist(e)\n",
    "        ax[1] = display_single(segmap, scale='linear', cmap=SEG_CMAP , ax=ax[1])\n",
    "    return objects, segmap\n",
    "\n",
    "\n",
    "def make_binary_mask(img, w, segmap, radius=10.0, threshold=0.01, gaia=True, factor_b=1.2, show_fig=True):\n",
    "    '''Make binary mask for a given segmentation map. \n",
    "    We convolve the segmentation map using a Gaussian kernal to expand the size of mask.\n",
    "    Parameters:\n",
    "    ----------\n",
    "    img: 2-D numpy array, image data\n",
    "    w: wcs of the input image\n",
    "    segmap: 2-D numpy array, segmentation map given by `extract_obj()`\n",
    "    radius: float, the width of Gaussian kernel\n",
    "    threshold: float, it can change the size of mask. Lower threshold, larger mask.\n",
    "    Returns:\n",
    "    -------\n",
    "    binary_mask: 2-D numpy boolean array.\n",
    "    '''\n",
    "\n",
    "    # Remove the central object\n",
    "    seg_nocen = imtools.seg_remove_cen_obj(segmap)\n",
    "    seg_conv = copy.deepcopy(seg_nocen)\n",
    "    seg_conv[seg_nocen > 0] = 1\n",
    "\n",
    "    # Convolve the image with a Gaussian kernel with the width of 10 pixel\n",
    "    # This is actually pretty slow, because the image is very large. \n",
    "    seg_conv = convolve(seg_conv.astype('float'), Gaussian2DKernel(radius))\n",
    "    seg_mask = seg_conv >= threshold\n",
    "\n",
    "    if gaia is False:\n",
    "        if show_fig:\n",
    "            display_single(seg_mask.astype(int), cmap=SEG_CMAP)\n",
    "        return seg_mask\n",
    "    else:\n",
    "        # Combine this mask with Gaia star mask\n",
    "        gaia_mask = imtools.gaia_star_mask(img, w, gaia_bright=16, factor_f=10000, factor_b=factor_b)[1].astype('bool')\n",
    "        if show_fig:\n",
    "        \tdisplay_single((seg_mask + gaia_mask).astype(int), cmap=SEG_CMAP)\n",
    "\n",
    "        binary_mask = seg_mask + gaia_mask\n",
    "        return binary_mask\n"
   ]
  },
  {
   "cell_type": "code",
   "execution_count": null,
   "metadata": {
    "scrolled": false
   },
   "outputs": [
    {
     "name": "stderr",
     "output_type": "stream",
     "text": [
      "WARNING: FITSFixedWarning: 'datfix' made the change 'Invalid parameter value: invalid time '21.08.12.000''. [astropy.wcs.wcs]\n"
     ]
    },
    {
     "name": "stdout",
     "output_type": "stream",
     "text": [
      "# Detect 2 objects\n"
     ]
    }
   ],
   "source": [
    "intens1_set = []\n",
    "intens2_set = []\n",
    "mag1_set = []\n",
    "mag2_set = []\n",
    "x = []\n",
    "y = []\n",
    "for obj in catalog[catalog['band']=='Red']:\n",
    "    clear_output()\n",
    "    img = fits.open(obj['filename'])[0].data.astype(float)\n",
    "    w = wcs.WCS(fits.open(obj['filename'])[0].header)\n",
    "    \n",
    "    objects, segmap = extract_obj(\n",
    "            img,\n",
    "            b=10,\n",
    "            f=5,\n",
    "            sigma=5,\n",
    "            pixel_scale=0.168,\n",
    "            deblend_cont=0.1,\n",
    "            deblend_nthresh=20,\n",
    "            show_fig=False)\n",
    "    # make mask\n",
    "    seg_mask = make_binary_mask(img, w, segmap, show_fig=False, gaia=False, threshold=0.1, radius=10)\n",
    "    bkg = sep.Background(img*(~seg_mask))\n",
    "    # Aperture photometry\n",
    "    objects = Table(objects)\n",
    "    objects.sort('flux')\n",
    "    objects.reverse()\n",
    "    flux1 = sep.sum_ellipse(img- bkg.globalback, objects['x'], objects['y'], 31, 31, objects['theta'])[0][0]\n",
    "    #flux2 = sep.sum_ellipse(img- bkg.globalback, objects['x'], objects['y'], 31, 31, objects['theta'])[0][1]\n",
    "    area1 = (np.pi*31.*31.)\n",
    "    #area1 = (np.pi*objects['a']*objects['a'])[0]\n",
    "    #area2 = (np.pi*31*31)\n",
    "    intens1 = flux1 / area1 / obj['exptime']\n",
    "    #intens2 = flux2 / area2 / obj['exptime']\n",
    "    mag1 = -2.5*np.log10(intens1)\n",
    "    #mag2 = -2.5*np.log10(intens2)\n",
    "    x.append(objects['x'])\n",
    "    y.append(objects['y'])\n",
    "    intens1_set.append(intens1)\n",
    "    #intens2_set.append(intens2)\n",
    "    mag1_set.append(mag1)\n",
    "    #mag2_set.append(mag2)\n",
    "    "
   ]
  },
  {
   "cell_type": "code",
   "execution_count": null,
   "metadata": {},
   "outputs": [],
   "source": [
    "Red = Table([Column(data = intens1_set,name = 'intensity1',dtype = float), \n",
    "              #Column(data = intens2_set,name = 'intensity2',dtype = float),\n",
    "              Column(data = mag1_set, name = 'Magnitude1',dtype = float), \n",
    "              #Column(data = mag2_set,name = 'Magnitude2',dtype = float), \n",
    "              catalog['airmass'][catalog['band']=='Red'],\n",
    "              catalog['time'][catalog['band']=='Red']])"
   ]
  },
  {
   "cell_type": "code",
   "execution_count": null,
   "metadata": {},
   "outputs": [],
   "source": [
    "Red.write('alp_del', format='csv',overwrite=True)\n",
    "Red"
   ]
  },
  {
   "cell_type": "code",
   "execution_count": null,
   "metadata": {},
   "outputs": [],
   "source": [
    "plt.scatter(Red['airmass'], Red['Magnitude1'])\n",
    "plt.ylabel('Magnitude')\n",
    "plt.xlabel('Airmass')\n",
    "plt.gca().invert_yaxis()\n",
    "plt.title('Airmass vs. Magnitude')"
   ]
  },
  {
   "cell_type": "code",
   "execution_count": 280,
   "metadata": {},
   "outputs": [
    {
     "data": {
      "image/png": "[encoded data removed]",
      "text/plain": [
       "<Figure size 432x288 with 1 Axes>"
      ]
     },
     "metadata": {},
     "output_type": "display_data"
    }
   ],
   "source": [
    "plt.scatter(Red['time'], Red['Magnitude1'])\n",
    "plt.gca().invert_yaxis()"
   ]
  },
  {
   "cell_type": "code",
   "execution_count": null,
   "metadata": {},
   "outputs": [],
   "source": []
  },
  {
   "cell_type": "code",
   "execution_count": null,
   "metadata": {},
   "outputs": [],
   "source": []
  }
 ],
 "metadata": {
  "kernelspec": {
   "display_name": "Python 3",
   "language": "python",
   "name": "python3"
  },
  "language_info": {
   "codemirror_mode": {
    "name": "ipython",
    "version": 3
   },
   "file_extension": ".py",
   "mimetype": "text/x-python",
   "name": "python",
   "nbconvert_exporter": "python",
   "pygments_lexer": "ipython3",
   "version": "3.6.5"
  }
 },
 "nbformat": 4,
 "nbformat_minor": 2
}
