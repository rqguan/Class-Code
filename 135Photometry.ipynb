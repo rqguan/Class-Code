{
 "cells": [
  {
   "cell_type": "code",
   "execution_count": 18,
   "metadata": {},
   "outputs": [],
   "source": [
    "from __future__ import division\n",
    "from astropy.io import fits\n",
    "import os\n",
    "import glob\n",
    "import copy\n",
    "import numpy as np\n",
    "from astropy.table import Table, Column\n",
    "import astropy.wcs as wcs\n",
    "from astropy.convolution import Gaussian2DKernel\n",
    "from astropy.convolution import convolve\n",
    "from astropy.io import ascii\n",
    "import sys\n",
    "\n",
    "# masking\n",
    "from kungpao import imtools\n",
    "import sep\n",
    "import matplotlib.pyplot as plt\n",
    "import copy\n",
    "\n",
    "sep.set_extract_pixstack(30000000)\n",
    "from IPython.display import clear_output\n",
    "\n",
    "# Sample coordinates to get AIRMASS\n",
    "from astropy.visualization import astropy_mpl_style\n",
    "plt.style.use(astropy_mpl_style)\n",
    "import astropy.units as u\n",
    "from astropy.time import Time\n",
    "from astropy.coordinates import SkyCoord, EarthLocation, AltAz"
   ]
  },
  {
   "cell_type": "code",
   "execution_count": 2,
   "metadata": {},
   "outputs": [],
   "source": [
    "# define path\n",
    "\n",
    "path = \"/home/enzo/135/01\""
   ]
  },
  {
   "cell_type": "code",
   "execution_count": 3,
   "metadata": {},
   "outputs": [],
   "source": [
    "os.chdir(path)\n",
    "filename = glob.glob('*')"
   ]
  },
  {
   "cell_type": "code",
   "execution_count": 4,
   "metadata": {},
   "outputs": [],
   "source": [
    "# time-Airmass\n",
    "\n",
    "# sample stars\n",
    "alb = SkyCoord.from_name('Albireo')\n",
    "\n",
    "zeta_aql = SkyCoord.from_name('Zeta Aquilae')\n",
    "gama_lyr = SkyCoord.from_name('Sulafat')\n",
    "beta_apl = SkyCoord.from_name('Alshain')\n",
    "alp_del = SkyCoord.from_name('Sualocin')\n",
    "alp_peg = SkyCoord.from_name('Markab')\n",
    "\n",
    "JBE = EarthLocation(lat=37.005*u.deg, lon=-122.0631*u.deg, height=249*u.m)\n",
    "utcoffset = -8*u.hour  # Eastern Daylight Time\n"
   ]
  },
  {
   "cell_type": "code",
   "execution_count": 5,
   "metadata": {},
   "outputs": [],
   "source": [
    "#time = Time('2018-11-04 20:00:00') - utcoffset\n",
    "#albaltaz = alb.transform_to(AltAz(obstime=time,location=JBE)).secz\n",
    "#albaltaz "
   ]
  },
  {
   "cell_type": "code",
   "execution_count": 6,
   "metadata": {},
   "outputs": [],
   "source": [
    "timeset = []\n",
    "exptime = []\n",
    "band = []\n",
    "time = []\n",
    "for name in filename:\n",
    "    file = fits.open(name)\n",
    "    hh = int(file[0].header['DATE-OBS'][11:][:2])\n",
    "    mm = int(file[0].header['DATE-OBS'][11:][3:5])\n",
    "    ss = int(file[0].header['DATE-OBS'][11:][6:8])\n",
    "    timeset.append(hh + mm/60 + ss/3600)\n",
    "    exptime.append(file[0].header['EXPTIME'])\n",
    "    band.append(file[0].header['FILTER'])\n",
    "    time_format = str(file[0].header['DATE-OBS'][:10])+\" \"+str(hh)+':'+str(mm)+':'+str(ss)\n",
    "    time.append(Time(time_format)-utcoffset)\n",
    "     "
   ]
  },
  {
   "cell_type": "code",
   "execution_count": 7,
   "metadata": {},
   "outputs": [],
   "source": [
    "timeset = Column(name='time', data=np.array(timeset), dtype=np.float64)\n",
    "exptime = Column(name='exptime', data=np.array(exptime))\n",
    "filename = Column(name='filename', data=filename)\n",
    "band = Column(name='band', data=band)\n",
    "airmass = Column(name='airmass', data=alb.transform_to(AltAz(obstime=time,location=JBE)).secz)\n",
    "catalog = Table([filename, timeset ,exptime, band, airmass])"
   ]
  },
  {
   "cell_type": "code",
   "execution_count": 8,
   "metadata": {},
   "outputs": [],
   "source": [
    "catalog.sort('band')"
   ]
  },
  {
   "cell_type": "code",
   "execution_count": 9,
   "metadata": {},
   "outputs": [
    {
     "data": {
      "text/plain": [
       "array([ True,  True,  True,  True,  True,  True,  True,  True,  True,\n",
       "        True,  True,  True,  True,  True,  True,  True,  True,  True,\n",
       "        True,  True,  True,  True,  True,  True,  True,  True,  True,\n",
       "        True,  True,  True,  True,  True, False, False, False, False,\n",
       "       False, False, False, False, False, False, False, False, False,\n",
       "       False, False, False, False, False, False, False, False, False,\n",
       "       False, False, False, False, False, False, False, False, False,\n",
       "       False, False, False, False, False, False, False, False, False,\n",
       "       False, False, False, False, False, False, False, False, False,\n",
       "       False, False, False, False, False, False, False, False, False,\n",
       "       False, False, False, False, False, False, False, False, False,\n",
       "       False, False, False, False, False, False, False, False, False,\n",
       "       False, False, False, False, False, False, False, False, False,\n",
       "       False, False, False, False, False, False, False, False, False,\n",
       "       False, False, False, False, False, False, False, False, False,\n",
       "       False, False, False, False, False, False, False, False, False,\n",
       "       False])"
      ]
     },
     "execution_count": 9,
     "metadata": {},
     "output_type": "execute_result"
    }
   ],
   "source": [
    "catalog['band']=='Blue'"
   ]
  },
  {
   "cell_type": "code",
   "execution_count": 10,
   "metadata": {},
   "outputs": [
    {
     "data": {
      "text/html": [
       "&lt;Column name=&apos;time&apos; dtype=&apos;float64&apos; length=32&gt;\n",
       "<table>\n",
       "<tr><td>20.393055555555556</td></tr>\n",
       "<tr><td>20.39638888888889</td></tr>\n",
       "<tr><td>20.390555555555554</td></tr>\n",
       "<tr><td>19.726388888888888</td></tr>\n",
       "<tr><td>19.72861111111111</td></tr>\n",
       "<tr><td>20.854166666666668</td></tr>\n",
       "<tr><td>20.85777777777778</td></tr>\n",
       "<tr><td>19.698333333333334</td></tr>\n",
       "<tr><td>20.875</td></tr>\n",
       "<tr><td>20.88222222222222</td></tr>\n",
       "<tr><td>18.981944444444444</td></tr>\n",
       "<tr><td>18.983333333333334</td></tr>\n",
       "<tr><td>...</td></tr>\n",
       "<tr><td>20.394166666666667</td></tr>\n",
       "<tr><td>18.810277777777777</td></tr>\n",
       "<tr><td>20.860000000000003</td></tr>\n",
       "<tr><td>18.97583333333333</td></tr>\n",
       "<tr><td>19.722777777777775</td></tr>\n",
       "<tr><td>20.878611111111113</td></tr>\n",
       "<tr><td>18.781388888888888</td></tr>\n",
       "<tr><td>18.978888888888886</td></tr>\n",
       "<tr><td>18.815</td></tr>\n",
       "<tr><td>20.883888888888887</td></tr>\n",
       "<tr><td>18.811944444444446</td></tr>\n",
       "<tr><td>18.980555555555554</td></tr>\n",
       "</table>"
      ],
      "text/plain": [
       "<Column name='time' dtype='float64' length=32>\n",
       "20.393055555555556\n",
       " 20.39638888888889\n",
       "20.390555555555554\n",
       "19.726388888888888\n",
       " 19.72861111111111\n",
       "20.854166666666668\n",
       " 20.85777777777778\n",
       "19.698333333333334\n",
       "            20.875\n",
       " 20.88222222222222\n",
       "18.981944444444444\n",
       "18.983333333333334\n",
       "               ...\n",
       "20.394166666666667\n",
       "18.810277777777777\n",
       "20.860000000000003\n",
       " 18.97583333333333\n",
       "19.722777777777775\n",
       "20.878611111111113\n",
       "18.781388888888888\n",
       "18.978888888888886\n",
       "            18.815\n",
       "20.883888888888887\n",
       "18.811944444444446\n",
       "18.980555555555554"
      ]
     },
     "execution_count": 10,
     "metadata": {},
     "output_type": "execute_result"
    }
   ],
   "source": [
    "catalog['time'][catalog['band']=='Blue']"
   ]
  },
  {
   "cell_type": "code",
   "execution_count": 11,
   "metadata": {},
   "outputs": [],
   "source": [
    "def extract_obj(img, b=30, f=5, sigma=5, show_fig=True, pixel_scale=0.168, minarea=5, \n",
    "    deblend_nthresh=32, deblend_cont=0.005, clean_param=1.0):\n",
    "    '''Extract objects for a given image, using `sep`.\n",
    "    Parameters:\n",
    "    ----------\n",
    "    img: 2-D numpy array\n",
    "    b: float, size of box\n",
    "    f: float, size of convolving kernel\n",
    "    sigma: float, detection threshold\n",
    "    pixel_scale: float\n",
    "    Returns:\n",
    "    -------\n",
    "    objects: numpy array, containing the positions and shapes of extracted objects.\n",
    "    segmap: 2-D numpy array, segmentation map\n",
    "    '''\n",
    "\n",
    "    # Subtract a mean sky value to achieve better object detection\n",
    "    b = 30  # Box size\n",
    "    f = 5   # Filter width\n",
    "    bkg = sep.Background(img, bw=b, bh=b, fw=f, fh=f)\n",
    "    data_sub = img - bkg.back()\n",
    "\n",
    "    sigma = sigma\n",
    "    objects, segmap = sep.extract(data_sub,\n",
    "                                  sigma,\n",
    "                                  err=bkg.globalrms,\n",
    "                                  segmentation_map=True,\n",
    "                                  filter_type='matched',\n",
    "                                  deblend_nthresh=deblend_nthresh,\n",
    "                                  deblend_cont=deblend_cont,\n",
    "                                  clean=True,\n",
    "                                  clean_param=clean_param,\n",
    "                                  minarea=minarea)\n",
    "                                  \n",
    "    print(\"# Detect %d objects\" % len(objects))\n",
    "\n",
    "    # plot background-subtracted image\n",
    "    if show_fig:\n",
    "        fig, ax = plt.subplots(1,2, figsize=(12,6))\n",
    "\n",
    "        ax[0] = display_single(data_sub, ax=ax[0], scale_bar_length=60, pixel_scale=pixel_scale)\n",
    "\n",
    "        # plot an ellipse for each object\n",
    "        for obj in objects:\n",
    "            e = Ellipse(xy=(obj['x'], obj['y']),\n",
    "                        width=8*obj['a'],\n",
    "                        height=8*obj['b'],\n",
    "                        angle=obj['theta'] * 180. / np.pi)\n",
    "            e.set_facecolor('none')\n",
    "            e.set_edgecolor('red')\n",
    "            ax[0].add_artist(e)\n",
    "        ax[1] = display_single(segmap, scale='linear', cmap=SEG_CMAP , ax=ax[1])\n",
    "    return objects, segmap\n",
    "\n",
    "\n",
    "def make_binary_mask(img, w, segmap, radius=10.0, threshold=0.01, gaia=True, factor_b=1.2, show_fig=True):\n",
    "    '''Make binary mask for a given segmentation map. \n",
    "    We convolve the segmentation map using a Gaussian kernal to expand the size of mask.\n",
    "    Parameters:\n",
    "    ----------\n",
    "    img: 2-D numpy array, image data\n",
    "    w: wcs of the input image\n",
    "    segmap: 2-D numpy array, segmentation map given by `extract_obj()`\n",
    "    radius: float, the width of Gaussian kernel\n",
    "    threshold: float, it can change the size of mask. Lower threshold, larger mask.\n",
    "    Returns:\n",
    "    -------\n",
    "    binary_mask: 2-D numpy boolean array.\n",
    "    '''\n",
    "\n",
    "    # Remove the central object\n",
    "    seg_nocen = imtools.seg_remove_cen_obj(segmap)\n",
    "    seg_conv = copy.deepcopy(seg_nocen)\n",
    "    seg_conv[seg_nocen > 0] = 1\n",
    "\n",
    "    # Convolve the image with a Gaussian kernel with the width of 10 pixel\n",
    "    # This is actually pretty slow, because the image is very large. \n",
    "    seg_conv = convolve(seg_conv.astype('float'), Gaussian2DKernel(radius))\n",
    "    seg_mask = seg_conv >= threshold\n",
    "\n",
    "    if gaia is False:\n",
    "        if show_fig:\n",
    "            display_single(seg_mask.astype(int), cmap=SEG_CMAP)\n",
    "        return seg_mask\n",
    "    else:\n",
    "        # Combine this mask with Gaia star mask\n",
    "        gaia_mask = imtools.gaia_star_mask(img, w, gaia_bright=16, factor_f=10000, factor_b=factor_b)[1].astype('bool')\n",
    "        if show_fig:\n",
    "        \tdisplay_single((seg_mask + gaia_mask).astype(int), cmap=SEG_CMAP)\n",
    "\n",
    "        binary_mask = seg_mask + gaia_mask\n",
    "        return binary_mask\n"
   ]
  },
  {
   "cell_type": "code",
   "execution_count": 20,
   "metadata": {
    "scrolled": true
   },
   "outputs": [
    {
     "name": "stderr",
     "output_type": "stream",
     "text": [
      "WARNING: FITSFixedWarning: 'datfix' made the change 'Invalid parameter value: invalid time '18.58.50.000''. [astropy.wcs.wcs]\n"
     ]
    },
    {
     "name": "stdout",
     "output_type": "stream",
     "text": [
      "# Detect 2 objects\n"
     ]
    }
   ],
   "source": [
    "intens1_set = []\n",
    "intens2_set = []\n",
    "mag1_set = []\n",
    "mag2_set = []\n",
    "x = []\n",
    "y = []\n",
    "for obj in catalog[catalog['band']=='Blue']:\n",
    "    clear_output()\n",
    "    img = fits.open(obj['filename'])[0].data.astype(float)\n",
    "    w = wcs.WCS(fits.open(obj['filename'])[0].header)\n",
    "    \n",
    "    objects, segmap = extract_obj(\n",
    "            img,\n",
    "            b=10,\n",
    "            f=5,\n",
    "            sigma=5,\n",
    "            pixel_scale=0.168,\n",
    "            deblend_cont=0.1,\n",
    "            deblend_nthresh=20,\n",
    "            show_fig=False)\n",
    "    # make mask\n",
    "    seg_mask = make_binary_mask(img, w, segmap, show_fig=False, gaia=False, threshold=0.1, radius=10)\n",
    "    bkg = sep.Background(img*(~seg_mask))\n",
    "    # Aperture photometry\n",
    "    objects = Table(objects)\n",
    "    objects.sort('flux')\n",
    "    objects.reverse()\n",
    "    flux1 = sep.sum_ellipse(img- bkg.globalback, objects['x'], objects['y'], 31, 31, objects['theta'])[0][0]\n",
    "    flux2 = sep.sum_ellipse(img- bkg.globalback, objects['x'], objects['y'], 31, 31, objects['theta'])[0][1]\n",
    "    area1 = (np.pi*objects['a']*objects['b'])[0]\n",
    "    area2 = (np.pi*objects['a']*objects['b'])[1]\n",
    "    intens1 = flux1 / obj['exptime']\n",
    "    intens2 = flux2 / obj['exptime']\n",
    "    mag1 = -2.5*np.log10(intens1)\n",
    "    mag2 = -2.5*np.log10(intens2)\n",
    "    x.append(objects['x'])\n",
    "    y.append(objects['y'])\n",
    "    intens1_set.append(intens1)\n",
    "    intens2_set.append(intens2)\n",
    "    mag1_set.append(mag1)\n",
    "    mag2_set.append(mag2)\n",
    "    "
   ]
  },
  {
   "cell_type": "code",
   "execution_count": 15,
   "metadata": {},
   "outputs": [],
   "source": [
    "blue = Table([intens1_set, intens2_set, mag1_set, mag2_set, catalog['airmass'][catalog['band']=='Blue'],catalog['time'][catalog['band']=='Blue'], x, y])"
   ]
  },
  {
   "cell_type": "code",
   "execution_count": 21,
   "metadata": {},
   "outputs": [
    {
     "ename": "TypeError",
     "evalue": "unhashable type: 'Column'",
     "output_type": "error",
     "traceback": [
      "\u001b[0;31m---------------------------------------------------------------------------\u001b[0m",
      "\u001b[0;31mTypeError\u001b[0m                                 Traceback (most recent call last)",
      "\u001b[0;32m<ipython-input-21-431b6391c74e>\u001b[0m in \u001b[0;36m<module>\u001b[0;34m()\u001b[0m\n\u001b[0;32m----> 1\u001b[0;31m \u001b[0mblue\u001b[0m\u001b[0;34m.\u001b[0m\u001b[0mwrite\u001b[0m\u001b[0;34m(\u001b[0m\u001b[0;34m'Alb_B'\u001b[0m\u001b[0;34m,\u001b[0m \u001b[0mformat\u001b[0m\u001b[0;34m=\u001b[0m\u001b[0;34m'csv'\u001b[0m\u001b[0;34m)\u001b[0m\u001b[0;34m\u001b[0m\u001b[0m\n\u001b[0m\u001b[1;32m      2\u001b[0m \u001b[0mblue\u001b[0m\u001b[0;34m\u001b[0m\u001b[0m\n",
      "\u001b[0;32m~/anaconda3/lib/python3.6/site-packages/astropy/table/table.py\u001b[0m in \u001b[0;36mwrite\u001b[0;34m(self, *args, **kwargs)\u001b[0m\n\u001b[1;32m   2558\u001b[0m         \u001b[0mpassed\u001b[0m \u001b[0mthrough\u001b[0m \u001b[0mto\u001b[0m \u001b[0mthe\u001b[0m \u001b[0munderlying\u001b[0m \u001b[0mdata\u001b[0m \u001b[0mreader\u001b[0m \u001b[0;34m(\u001b[0m\u001b[0me\u001b[0m\u001b[0;34m.\u001b[0m\u001b[0mg\u001b[0m\u001b[0;34m.\u001b[0m\u001b[0;31m \u001b[0m\u001b[0;31m`\u001b[0m\u001b[0;34m~\u001b[0m\u001b[0mastropy\u001b[0m\u001b[0;34m.\u001b[0m\u001b[0mio\u001b[0m\u001b[0;34m.\u001b[0m\u001b[0mascii\u001b[0m\u001b[0;34m.\u001b[0m\u001b[0mwrite\u001b[0m\u001b[0;31m`\u001b[0m\u001b[0;34m)\u001b[0m\u001b[0;34m.\u001b[0m\u001b[0;34m\u001b[0m\u001b[0m\n\u001b[1;32m   2559\u001b[0m         \"\"\"\n\u001b[0;32m-> 2560\u001b[0;31m         \u001b[0mio_registry\u001b[0m\u001b[0;34m.\u001b[0m\u001b[0mwrite\u001b[0m\u001b[0;34m(\u001b[0m\u001b[0mself\u001b[0m\u001b[0;34m,\u001b[0m \u001b[0;34m*\u001b[0m\u001b[0margs\u001b[0m\u001b[0;34m,\u001b[0m \u001b[0;34m**\u001b[0m\u001b[0mkwargs\u001b[0m\u001b[0;34m)\u001b[0m\u001b[0;34m\u001b[0m\u001b[0m\n\u001b[0m\u001b[1;32m   2561\u001b[0m \u001b[0;34m\u001b[0m\u001b[0m\n\u001b[1;32m   2562\u001b[0m     \u001b[0;32mdef\u001b[0m \u001b[0mcopy\u001b[0m\u001b[0;34m(\u001b[0m\u001b[0mself\u001b[0m\u001b[0;34m,\u001b[0m \u001b[0mcopy_data\u001b[0m\u001b[0;34m=\u001b[0m\u001b[0;32mTrue\u001b[0m\u001b[0;34m)\u001b[0m\u001b[0;34m:\u001b[0m\u001b[0;34m\u001b[0m\u001b[0m\n",
      "\u001b[0;32m~/anaconda3/lib/python3.6/site-packages/astropy/io/registry.py\u001b[0m in \u001b[0;36mwrite\u001b[0;34m(data, format, *args, **kwargs)\u001b[0m\n\u001b[1;32m    558\u001b[0m \u001b[0;34m\u001b[0m\u001b[0m\n\u001b[1;32m    559\u001b[0m     \u001b[0mwriter\u001b[0m \u001b[0;34m=\u001b[0m \u001b[0mget_writer\u001b[0m\u001b[0;34m(\u001b[0m\u001b[0mformat\u001b[0m\u001b[0;34m,\u001b[0m \u001b[0mdata\u001b[0m\u001b[0;34m.\u001b[0m\u001b[0m__class__\u001b[0m\u001b[0;34m)\u001b[0m\u001b[0;34m\u001b[0m\u001b[0m\n\u001b[0;32m--> 560\u001b[0;31m     \u001b[0mwriter\u001b[0m\u001b[0;34m(\u001b[0m\u001b[0mdata\u001b[0m\u001b[0;34m,\u001b[0m \u001b[0;34m*\u001b[0m\u001b[0margs\u001b[0m\u001b[0;34m,\u001b[0m \u001b[0;34m**\u001b[0m\u001b[0mkwargs\u001b[0m\u001b[0;34m)\u001b[0m\u001b[0;34m\u001b[0m\u001b[0m\n\u001b[0m\u001b[1;32m    561\u001b[0m \u001b[0;34m\u001b[0m\u001b[0m\n\u001b[1;32m    562\u001b[0m \u001b[0;34m\u001b[0m\u001b[0m\n",
      "\u001b[0;32m~/anaconda3/lib/python3.6/site-packages/astropy/io/ascii/connect.py\u001b[0m in \u001b[0;36mwrite_csv\u001b[0;34m(table, filename, **kwargs)\u001b[0m\n\u001b[1;32m     84\u001b[0m     \u001b[0;32mfrom\u001b[0m \u001b[0;34m.\u001b[0m\u001b[0mui\u001b[0m \u001b[0;32mimport\u001b[0m \u001b[0mwrite\u001b[0m\u001b[0;34m\u001b[0m\u001b[0m\n\u001b[1;32m     85\u001b[0m     \u001b[0mkwargs\u001b[0m\u001b[0;34m[\u001b[0m\u001b[0;34m'format'\u001b[0m\u001b[0;34m]\u001b[0m \u001b[0;34m=\u001b[0m \u001b[0;34m'csv'\u001b[0m\u001b[0;34m\u001b[0m\u001b[0m\n\u001b[0;32m---> 86\u001b[0;31m     \u001b[0;32mreturn\u001b[0m \u001b[0mwrite\u001b[0m\u001b[0;34m(\u001b[0m\u001b[0mtable\u001b[0m\u001b[0;34m,\u001b[0m \u001b[0mfilename\u001b[0m\u001b[0;34m,\u001b[0m \u001b[0;34m**\u001b[0m\u001b[0mkwargs\u001b[0m\u001b[0;34m)\u001b[0m\u001b[0;34m\u001b[0m\u001b[0m\n\u001b[0m\u001b[1;32m     87\u001b[0m \u001b[0;34m\u001b[0m\u001b[0m\n\u001b[1;32m     88\u001b[0m \u001b[0;34m\u001b[0m\u001b[0m\n",
      "\u001b[0;32m~/anaconda3/lib/python3.6/site-packages/astropy/io/ascii/ui.py\u001b[0m in \u001b[0;36mwrite\u001b[0;34m(table, output, format, Writer, fast_writer, overwrite, **kwargs)\u001b[0m\n\u001b[1;32m    878\u001b[0m     \u001b[0mwriter\u001b[0m \u001b[0;34m=\u001b[0m \u001b[0mget_writer\u001b[0m\u001b[0;34m(\u001b[0m\u001b[0mWriter\u001b[0m\u001b[0;34m=\u001b[0m\u001b[0mWriter\u001b[0m\u001b[0;34m,\u001b[0m \u001b[0mfast_writer\u001b[0m\u001b[0;34m=\u001b[0m\u001b[0mfast_writer\u001b[0m\u001b[0;34m,\u001b[0m \u001b[0;34m**\u001b[0m\u001b[0mkwargs\u001b[0m\u001b[0;34m)\u001b[0m\u001b[0;34m\u001b[0m\u001b[0m\n\u001b[1;32m    879\u001b[0m     \u001b[0;32mif\u001b[0m \u001b[0mwriter\u001b[0m\u001b[0;34m.\u001b[0m\u001b[0m_format_name\u001b[0m \u001b[0;32min\u001b[0m \u001b[0mcore\u001b[0m\u001b[0;34m.\u001b[0m\u001b[0mFAST_CLASSES\u001b[0m\u001b[0;34m:\u001b[0m\u001b[0;34m\u001b[0m\u001b[0m\n\u001b[0;32m--> 880\u001b[0;31m         \u001b[0mwriter\u001b[0m\u001b[0;34m.\u001b[0m\u001b[0mwrite\u001b[0m\u001b[0;34m(\u001b[0m\u001b[0mtable\u001b[0m\u001b[0;34m,\u001b[0m \u001b[0moutput\u001b[0m\u001b[0;34m)\u001b[0m\u001b[0;34m\u001b[0m\u001b[0m\n\u001b[0m\u001b[1;32m    881\u001b[0m         \u001b[0;32mreturn\u001b[0m\u001b[0;34m\u001b[0m\u001b[0m\n\u001b[1;32m    882\u001b[0m \u001b[0;34m\u001b[0m\u001b[0m\n",
      "\u001b[0;32m~/anaconda3/lib/python3.6/site-packages/astropy/io/ascii/fastbasic.py\u001b[0m in \u001b[0;36mwrite\u001b[0;34m(self, table, output)\u001b[0m\n\u001b[1;32m    192\u001b[0m         \u001b[0moutput\u001b[0m \u001b[0mmasked\u001b[0m \u001b[0mvalues\u001b[0m \u001b[0;32mas\u001b[0m \u001b[0mempty\u001b[0m \u001b[0mfields\u001b[0m\u001b[0;34m.\u001b[0m\u001b[0;34m\u001b[0m\u001b[0m\n\u001b[1;32m    193\u001b[0m         \"\"\"\n\u001b[0;32m--> 194\u001b[0;31m         \u001b[0mself\u001b[0m\u001b[0;34m.\u001b[0m\u001b[0m_write\u001b[0m\u001b[0;34m(\u001b[0m\u001b[0mtable\u001b[0m\u001b[0;34m,\u001b[0m \u001b[0moutput\u001b[0m\u001b[0;34m,\u001b[0m \u001b[0;34m{\u001b[0m\u001b[0;34m'fill_values'\u001b[0m\u001b[0;34m:\u001b[0m \u001b[0;34m[\u001b[0m\u001b[0;34m(\u001b[0m\u001b[0mcore\u001b[0m\u001b[0;34m.\u001b[0m\u001b[0mmasked\u001b[0m\u001b[0;34m,\u001b[0m \u001b[0;34m''\u001b[0m\u001b[0;34m)\u001b[0m\u001b[0;34m]\u001b[0m\u001b[0;34m}\u001b[0m\u001b[0;34m)\u001b[0m\u001b[0;34m\u001b[0m\u001b[0m\n\u001b[0m\u001b[1;32m    195\u001b[0m \u001b[0;34m\u001b[0m\u001b[0m\n\u001b[1;32m    196\u001b[0m \u001b[0;34m\u001b[0m\u001b[0m\n",
      "\u001b[0;32m~/anaconda3/lib/python3.6/site-packages/astropy/io/ascii/fastbasic.py\u001b[0m in \u001b[0;36m_write\u001b[0;34m(self, table, output, default_kwargs, header_output, output_types)\u001b[0m\n\u001b[1;32m    169\u001b[0m         \u001b[0mwrite_kwargs\u001b[0m\u001b[0;34m.\u001b[0m\u001b[0mupdate\u001b[0m\u001b[0;34m(\u001b[0m\u001b[0mself\u001b[0m\u001b[0;34m.\u001b[0m\u001b[0mkwargs\u001b[0m\u001b[0;34m)\u001b[0m\u001b[0;34m\u001b[0m\u001b[0m\n\u001b[1;32m    170\u001b[0m         \u001b[0mwriter\u001b[0m \u001b[0;34m=\u001b[0m \u001b[0mcparser\u001b[0m\u001b[0;34m.\u001b[0m\u001b[0mFastWriter\u001b[0m\u001b[0;34m(\u001b[0m\u001b[0mtable\u001b[0m\u001b[0;34m,\u001b[0m \u001b[0;34m**\u001b[0m\u001b[0mwrite_kwargs\u001b[0m\u001b[0;34m)\u001b[0m\u001b[0;34m\u001b[0m\u001b[0m\n\u001b[0;32m--> 171\u001b[0;31m         \u001b[0mwriter\u001b[0m\u001b[0;34m.\u001b[0m\u001b[0mwrite\u001b[0m\u001b[0;34m(\u001b[0m\u001b[0moutput\u001b[0m\u001b[0;34m,\u001b[0m \u001b[0mheader_output\u001b[0m\u001b[0;34m,\u001b[0m \u001b[0moutput_types\u001b[0m\u001b[0;34m)\u001b[0m\u001b[0;34m\u001b[0m\u001b[0m\n\u001b[0m\u001b[1;32m    172\u001b[0m \u001b[0;34m\u001b[0m\u001b[0m\n\u001b[1;32m    173\u001b[0m \u001b[0;34m\u001b[0m\u001b[0m\n",
      "\u001b[0;32mastropy/io/ascii/cparser.pyx\u001b[0m in \u001b[0;36mastropy.io.ascii.cparser.FastWriter.write\u001b[0;34m()\u001b[0m\n",
      "\u001b[0;31mTypeError\u001b[0m: unhashable type: 'Column'"
     ]
    }
   ],
   "source": [
    "blue.write('Alb_B', format='csv')\n",
    "blue"
   ]
  },
  {
   "cell_type": "code",
   "execution_count": null,
   "metadata": {},
   "outputs": [],
   "source": [
    "plt.scatter(blue['airmass'], blue['col2'])\n",
    "plt.ylabel('Magnitude')\n",
    "plt.xlabel('Airmass')\n",
    "plt.title('Airmass vs. Magnitude of Albireo')"
   ]
  },
  {
   "cell_type": "code",
   "execution_count": 138,
   "metadata": {},
   "outputs": [
    {
     "data": {
      "text/plain": [
       "<matplotlib.collections.PathCollection at 0x7f30b8f09b38>"
      ]
     },
     "execution_count": 138,
     "metadata": {},
     "output_type": "execute_result"
    },
    {
     "data": {
      "image/png": "[encoded data removed]",
      "text/plain": [
       "<Figure size 576x432 with 1 Axes>"
      ]
     },
     "metadata": {},
     "output_type": "display_data"
    }
   ],
   "source": [
    "plt.scatter(blue['time'], blue['col2'])"
   ]
  },
  {
   "cell_type": "code",
   "execution_count": null,
   "metadata": {},
   "outputs": [],
   "source": []
  }
 ],
 "metadata": {
  "kernelspec": {
   "display_name": "Python 3",
   "language": "python",
   "name": "python3"
  },
  "language_info": {
   "codemirror_mode": {
    "name": "ipython",
    "version": 3
   },
   "file_extension": ".py",
   "mimetype": "text/x-python",
   "name": "python",
   "nbconvert_exporter": "python",
   "pygments_lexer": "ipython3",
   "version": "3.6.5"
  }
 },
 "nbformat": 4,
 "nbformat_minor": 2
}
