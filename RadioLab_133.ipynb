{
 "cells": [
  {
   "cell_type": "code",
   "execution_count": 1,
   "metadata": {},
   "outputs": [],
   "source": [
    "#first import our packages\n",
    "from numpy import *\n",
    "%matplotlib inline\n",
    "from matplotlib.pyplot import *\n",
    "from astropy.io import ascii\n",
    "import matplotlib.patches as mpatches\n",
    "import matplotlib.pyplot as plt\n"
   ]
  },
  {
   "cell_type": "code",
   "execution_count": 146,
   "metadata": {},
   "outputs": [],
   "source": [
    "import pandas as pd \n",
    "rc = pd.read_csv('RCQ.csv')"
   ]
  },
  {
   "cell_type": "code",
   "execution_count": 147,
   "metadata": {},
   "outputs": [],
   "source": [
    "bkd=[136,125,152,124,252-124]"
   ]
  },
  {
   "cell_type": "code",
   "execution_count": 148,
   "metadata": {},
   "outputs": [
    {
     "name": "stdout",
     "output_type": "stream",
     "text": [
      "133.0\n"
     ]
    }
   ],
   "source": [
    "print(mean(bkd))"
   ]
  },
  {
   "cell_type": "code",
   "execution_count": 168,
   "metadata": {},
   "outputs": [],
   "source": [
    "st = [16,9,12,7,14,11,5,5,9,7,10,15,8,9,7,3,6,7,4,10,8,5,11,5,16,9,9,11,6,9,8,9,10,8,7,6,10,7,10,10,5,13,3,5,6,10,6,9,8,8,13,12,10,15,11,7,8,5,12,8,7,12,6,11,3,9,9,10,7,10,8,8,8,6,7,12,6,4,10,5,5,12,8,6,12,5,6,5,4,7,7,10,16,12,11,6,11,7,7,4,9,7,3,8,7,5,10,10,6,13,3,9,9,6,13,10,9,12,8,7,5,12,8,10,12,15,10,7,7,4,10,7,11,4,13,6,8,5,8,11,12,9,11,6,8,6,5,5,8,6,12,9,10,10,4,9,12,13,14,11,11,7,12,8,10,6,12,5,9,8,5,5,7,5,10,6,8,13,4,8,8,7,6,5,9,11,5,6,10,5,10,12,5,10,7,9,10,9,8,8,10,10,8,5,7,10,11,15,11,8,6,6,9,12,4,10,12,5,8,9,8,12,9,7,6,7,9,6,11,10,5,9,8,15,12,12,8,12,7,7,5,3,9,11,5,12,10,8,8,4,7,8,12,11,7,8,13,6,9,15,6,10,15,7,11,9,10,8,13,7,12,7,9,8,6,7,12,9,15,10,4,10,13,6,14,8,10,12,14,10,9,11,9,8,9,6,7,14,7,3,10,5,7,11,5,12,7,9,7,3,11,11,7,6,10,14,10,7,6,8,10,13,7,10,13,11,14,5,5,8,7,10,9,3,13,7,7,6,11,10,5,11,12,11,5,14,12,9,5]"
   ]
  },
  {
   "cell_type": "code",
   "execution_count": 196,
   "metadata": {},
   "outputs": [
    {
     "name": "stdout",
     "output_type": "stream",
     "text": [
      "349\n"
     ]
    }
   ],
   "source": [
    "print(len(st))\n",
    "model = list(linspace(0,16,17))"
   ]
  },
  {
   "cell_type": "code",
   "execution_count": 200,
   "metadata": {},
   "outputs": [
    {
     "data": {
      "text/plain": [
       "<Container object of 17 artists>"
      ]
     },
     "execution_count": 200,
     "metadata": {},
     "output_type": "execute_result"
    },
    {
     "data": {
      "image/png": "[encoded data removed]",
      "text/plain": [
       "<matplotlib.figure.Figure at 0x7f32ef4ddd30>"
      ]
     },
     "metadata": {},
     "output_type": "display_data"
    }
   ],
   "source": [
    "figsize=(4,3)\n",
    "np.bincount(st)\n",
    "count = list(np.bincount(st))\n",
    "\n",
    "bar(model,count,alpha=0.5,width=0.5,color='green')"
   ]
  },
  {
   "cell_type": "code",
   "execution_count": 201,
   "metadata": {},
   "outputs": [
    {
     "name": "stdout",
     "output_type": "stream",
     "text": [
      "[0.0, 1.0, 2.0, 3.0, 4.0, 5.0, 6.0, 7.0, 8.0, 9.0, 10.0, 11.0, 12.0, 13.0, 14.0, 15.0, 16.0]\n"
     ]
    }
   ],
   "source": [
    "lam = mean(st)\n",
    "stp = []\n",
    "print(model)\n",
    "for i in model:\n",
    "    poi = (math.e**(-1*lam)) * (lam**(i))/math.factorial(i)\n",
    "    stp.append(poi)"
   ]
  },
  {
   "cell_type": "code",
   "execution_count": 202,
   "metadata": {},
   "outputs": [
    {
     "data": {
      "text/plain": [
       "<Container object of 17 artists>"
      ]
     },
     "execution_count": 202,
     "metadata": {},
     "output_type": "execute_result"
    },
    {
     "data": {
      "image/png": "[encoded data removed]",
      "text/plain": [
       "<matplotlib.figure.Figure at 0x7f32eea2e588>"
      ]
     },
     "metadata": {},
     "output_type": "display_data"
    }
   ],
   "source": [
    "bar(model,stp,alpha=0.5,width=0.5)"
   ]
  },
  {
   "cell_type": "code",
   "execution_count": 208,
   "metadata": {
    "scrolled": true
   },
   "outputs": [
    {
     "data": {
      "text/plain": [
       "(0.0, 0.25)"
      ]
     },
     "execution_count": 208,
     "metadata": {},
     "output_type": "execute_result"
    },
    {
     "data": {
      "image/png": "[encoded data removed]",
      "text/plain": [
       "<matplotlib.figure.Figure at 0x7f32eecc6320>"
      ]
     },
     "metadata": {},
     "output_type": "display_data"
    }
   ],
   "source": [
    "fig, ax = subplots(1, figsize=(6,4))\n",
    "ax.bar(model,np.bincount(st),alpha=0.5,width=0.618,color='green')\n",
    "ax2 = ax.twinx()\n",
    "ax2.bar(model,stp,alpha=0.5,width=0.618)\n",
    "ax2.set_ylim(0.0,0.25)\n"
   ]
  },
  {
   "cell_type": "code",
   "execution_count": 181,
   "metadata": {},
   "outputs": [
    {
     "name": "stdout",
     "output_type": "stream",
     "text": [
      "0.0015121984619192066\n"
     ]
    }
   ],
   "source": [
    "n_a = (6370-10)/(600+0.5)\n",
    "n_b = (7331-10)/(630+0.5)\n",
    "n_ab = (12266+800)/(600-0.5)\n",
    "\n",
    "tao = (n_a + n_b - n_ab) / (2*n_b*n_b)\n",
    "print(tao)"
   ]
  },
  {
   "cell_type": "code",
   "execution_count": 183,
   "metadata": {},
   "outputs": [
    {
     "name": "stdout",
     "output_type": "stream",
     "text": [
      "0.0032678506131105\n"
     ]
    }
   ],
   "source": [
    "n_a = (8822)/(15*60+10)\n",
    "n_b = (7329)/(630)\n",
    "n_ab = (12266)/(600)\n",
    "\n",
    "tao = (n_a + n_b - n_ab) / (2*n_b*n_b)\n",
    "print(tao)"
   ]
  },
  {
   "cell_type": "code",
   "execution_count": 2,
   "metadata": {},
   "outputs": [],
   "source": [
    "L1=[36,49,40,39,51,52,42,32,41,50,37,48,55,46,47,48,38,35,47,43,49,50,34,37,45,37,48,49,44,40,37,46,36,40,43,48,41,45,47,40,40,29,44,55,38,32,47,46,38,44,50]\n",
    "L2=[6,4,8,4,7,7,4,2,6,7,4,8,3,3,4,7,9,6,11,3,8,7,10,7,7,4,8,10,9,4,9,4,6,5,8,8,9,4,6,9,5,10,6,6,9,4,5,7,4,7,4]\n",
    "L3=[3,6,5,4,8,4,4,6,2,4,11,5,6,8,4,8,6,3,6,4,5,4,8,5,4,5,6,7,3,5,0,8,8,8,9,6,9,3,7,3,9,2,6,4,3,7,3,4,6,9,4]\n",
    "L4=[3,3,11,12,4,6,2,3,6,6,3,3,5,7,9,2,7,5,3,3,4,4,3,5,8,3,2,6,3,4,5,2,1,7,5,5,8,5,3,7,3,4,6,3,7,8,1,4,7,7,6]\n",
    "\n"
   ]
  },
  {
   "cell_type": "code",
   "execution_count": 11,
   "metadata": {},
   "outputs": [
    {
     "name": "stdout",
     "output_type": "stream",
     "text": [
      "43.03921568627451\n",
      "6.313725490196078\n",
      "5.431372549019608\n",
      "4.882352941176471\n"
     ]
    }
   ],
   "source": [
    "print(mean(L1))\n",
    "print(mean(L2))\n",
    "print(mean(L3))\n",
    "print(mean(L4))"
   ]
  },
  {
   "cell_type": "code",
   "execution_count": null,
   "metadata": {},
   "outputs": [],
   "source": []
  }
 ],
 "metadata": {
  "kernelspec": {
   "display_name": "Python 3.6",
   "language": "python",
   "name": "python36"
  },
  "language_info": {
   "codemirror_mode": {
    "name": "ipython",
    "version": 3
   },
   "file_extension": ".py",
   "mimetype": "text/x-python",
   "name": "python",
   "nbconvert_exporter": "python",
   "pygments_lexer": "ipython3",
   "version": "3.6.4"
  }
 },
 "nbformat": 4,
 "nbformat_minor": 2
}
