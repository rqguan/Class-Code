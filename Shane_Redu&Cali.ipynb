{
 "cells": [
  {
   "cell_type": "code",
   "execution_count": 51,
   "metadata": {},
   "outputs": [],
   "source": [
    "from __future__ import division\n",
    "from astropy.io import fits\n",
    "import os,glob,sys\n",
    "import glob\n",
    "import copy\n",
    "import numpy as np\n",
    "from astropy.table import Table, Column\n",
    "import numpy as np\n",
    "from sklearn import preprocessing\n",
    "import matplotlib.pyplot as plt\n",
    "import lineid_plot\n",
    "\n",
    "\n",
    "l_w = [3610.51,3650.15,4046.56,4358.33,4678.16,4799.92,5085.82,5460.74,5769.59,5790.65,5875.62]\n",
    "l_l = ['Cd I', 'Hg I', 'Hg I','Hg I', 'Cd I' , 'Cd I', 'Cd I', 'Hg I', 'Hg I', 'Hg I', 'He']"
   ]
  },
  {
   "cell_type": "code",
   "execution_count": 11,
   "metadata": {},
   "outputs": [],
   "source": [
    "# define path\n",
    "path = '/Users/runquanguan/Documents/136P3/Mix'"
   ]
  },
  {
   "cell_type": "code",
   "execution_count": 12,
   "metadata": {},
   "outputs": [],
   "source": [
    "os.chdir(path)\n",
    "filename = glob.glob('*')"
   ]
  },
  {
   "cell_type": "code",
   "execution_count": 13,
   "metadata": {},
   "outputs": [],
   "source": [
    "def get_bias(folder):\n",
    "    Bias = []\n",
    "    ARRAY = []\n",
    "    # pick out bias frame\n",
    "    for file in folder:\n",
    "        hdul = fits.open(file)\n",
    "        TYPE = hdul[0].header['OBJECT']\n",
    "        if TYPE == 'bias':\n",
    "            Bias.append(file)\n",
    "        else:\n",
    "            pass\n",
    "            \n",
    "    # extract data array from data \n",
    "    for file in Bias:\n",
    "        hdul_b = fits.open(file)\n",
    "        array = hdul_b[0].data\n",
    "        # form arrays as a list\n",
    "        ARRAY.append(array[80:2650,100:400])\n",
    "    # turn list into array again to sum up\n",
    "    ARRAY = np.array(ARRAY)\n",
    "    # sum up\n",
    "    SUM = ARRAY.sum(axis=0)\n",
    "    # average out\n",
    "    AVG = SUM/len(ARRAY)\n",
    "    # return result\n",
    "    return AVG\n",
    "\n",
    "\n",
    "def Flat(folder):\n",
    "    \n",
    "    L = []\n",
    "    ARRAY = []\n",
    "    bias_frame = get_bias(folder)\n",
    "\n",
    "    for file in folder:\n",
    "        hdul = fits.open(file)\n",
    "        header = hdul[0].header\n",
    "        FRAME = hdul[0].header['OBJECT']  \n",
    "        if FRAME=='dome_flat':\n",
    "            L.append(file)\n",
    "    # Flat = (file-dark-bias)/EXPT\n",
    "    for file in L:\n",
    "        hdul = fits.open(file)\n",
    "        array = hdul[0].data\n",
    "        ARRAY.append(array[80:2650,100:400])\n",
    "        \n",
    "    ARRAY = np.array(ARRAY)\n",
    "    SUM = ARRAY.sum(axis=0)\n",
    "    AVG = SUM/len(ARRAY)\n",
    "    FLAT = (AVG - bias_frame)/10\n",
    "    FLAT = FLAT/np.mean(FLAT)\n",
    "    return FLAT"
   ]
  },
  {
   "cell_type": "code",
   "execution_count": 14,
   "metadata": {},
   "outputs": [],
   "source": [
    "def reduce_frame(folder):\n",
    "    \n",
    "    L = []\n",
    "    Reduced = []\n",
    "    \n",
    "    # define bias frame\n",
    "    bias_frame = get_bias(folder)\n",
    "    Flat_frame = Flat(folder)\n",
    "    \n",
    "    # find B science frame\n",
    "    for file in folder:\n",
    "        hdul = fits.open(file)\n",
    "        header = hdul[0].header\n",
    "        FRAME = hdul[0].header['OBJECT']  \n",
    "        EXPT = hdul[0].header['EXPTIME']\n",
    "        if FRAME=='arc':\n",
    "            L.append(file)\n",
    "        else:\n",
    "            pass\n",
    "             \n",
    "    for file in L:\n",
    "        hdul = fits.open(file)\n",
    "        image_data = hdul[0].data[80:2650,100:400]\n",
    "        image_header = hdul[0].header\n",
    "        \n",
    "        DATA = (image_data - bias_frame) / Flat_frame\n",
    "        new_file = file[0:5]+\"_RDU\"+file[5:9]\n",
    "        outhdu = fits.PrimaryHDU(data = DATA, header = image_header)\n",
    "        outhdu.writeto(new_file,overwrite=True)\n",
    "        \n",
    "        Reduced.append(new_file)\n",
    "    return Reduced"
   ]
  },
  {
   "cell_type": "code",
   "execution_count": 37,
   "metadata": {},
   "outputs": [],
   "source": [
    "stacked_data = fits.getdata('stacked.fits')"
   ]
  },
  {
   "cell_type": "code",
   "execution_count": 69,
   "metadata": {},
   "outputs": [],
   "source": [
    "spectrum2D = stacked_data\n",
    "spectrum1D = np.mean(sci_2D,axis=1)\n",
    "\n",
    "spectrum1D_list = list(spectrum1D)\n",
    "list1 = list(spectrum1D)\n",
    "list1.sort() "
   ]
  },
  {
   "cell_type": "code",
   "execution_count": 121,
   "metadata": {},
   "outputs": [
    {
     "data": {
      "text/plain": [
       "(1500, 2000)"
      ]
     },
     "execution_count": 121,
     "metadata": {},
     "output_type": "execute_result"
    },
    {
     "data": {
      "image/png": "[encoded data removed]",
      "text/plain": [
       "<Figure size 432x288 with 1 Axes>"
      ]
     },
     "metadata": {
      "needs_background": "light"
     },
     "output_type": "display_data"
    }
   ],
   "source": [
    "plt.plot(spectrum1D)\n",
    "plt.xlim(1500,2000)\n",
    "#plt.axvline(x=2253.4,c='r')"
   ]
  },
  {
   "cell_type": "code",
   "execution_count": 122,
   "metadata": {},
   "outputs": [
    {
     "name": "stdout",
     "output_type": "stream",
     "text": [
      "[1915  937 1363 2253 1098  535  907  832 1753]\n"
     ]
    }
   ],
   "source": [
    "# set up calibration points\n",
    "\n",
    "length = len(list1) \n",
    "cali1 = spectrum1D_list.index(list1[length-1])\n",
    "cali2 = spectrum1D_list.index(list1[length-3])\n",
    "cali3 = spectrum1D_list.index(list1[length-5])\n",
    "cali4 = spectrum1D_list.index(list1[length-8])\n",
    "cali5 = spectrum1D_list.index(list1[length-10])\n",
    "cali6 = spectrum1D_list.index(list1[length-12])\n",
    "\n",
    "cali7 = spectrum1D_list.index(list1[length-13])\n",
    "cali8 = spectrum1D_list.index(list1[length-18])\n",
    "cali9 = spectrum1D_list.index(list1[length-22])\n",
    "\n",
    "\n",
    "or1 = 7032.413 #\n",
    "or2 = 6402.246 #\n",
    "or3 = 6678.276 #\n",
    "or4 = 7245.167 #\n",
    "or5 = 6506.528 #\n",
    "or6 = 6143.062 #\n",
    "\n",
    "or7 = 6382.991 #\n",
    "or8 = 6334.428 # \n",
    "or9 = 6929.468 # \n",
    "\n",
    "x = np.array([cali1, cali2, cali3, cali4, cali5,\n",
    "              cali6,cali7, cali8, cali9])\n",
    "y = np.array([or1, or2, or3, or4, or5,or6,\n",
    "             or7,or8,or9])\n",
    "print(x)"
   ]
  },
  {
   "cell_type": "code",
   "execution_count": 123,
   "metadata": {},
   "outputs": [],
   "source": [
    "# Linear fit function\n",
    "\n",
    "def linfit(xdata, ydata, yerror):\n",
    "    def U(n):\n",
    "        U_n = sum((xdata**n)/(yerror**2), 0)\n",
    "        return U_n\n",
    "    def W(n): \n",
    "        W_n = sum(ydata * (xdata**n) / (yerror**2)) \n",
    "        return W_n\n",
    "    D = U(0) * U(2) - (U(1)**2)\n",
    "    slope = (U(0)*W(1) - U(1)*W(0)) / D\n",
    "    intercept = (U(2)*W(0) - U(1)*W(1)) / D\n",
    "    sigma_slope = U(0)/D\n",
    "    sigma_intercept = U(2)/D\n",
    "    return slope, intercept\n",
    "\n",
    "# Fitting slope and intercept\n",
    "\n",
    "slope = linfit(x,y,1)[0]\n",
    "inter = linfit(x,y,1)[1]"
   ]
  },
  {
   "cell_type": "code",
   "execution_count": 124,
   "metadata": {},
   "outputs": [
    {
     "data": {
      "image/png": "[encoded data removed]",
      "text/plain": [
       "<Figure size 432x288 with 1 Axes>"
      ]
     },
     "metadata": {
      "needs_background": "light"
     },
     "output_type": "display_data"
    }
   ],
   "source": [
    "pixel = np.linspace(1,len(spectrum1D),len(spectrum1D))\n",
    "cali = slope*pixel+inter\n",
    "\n",
    "# spectrum with lines id\n",
    "\n",
    "plt.plot(cali,spectrum1D)\n",
    "plt.show()"
   ]
  },
  {
   "cell_type": "code",
   "execution_count": 125,
   "metadata": {},
   "outputs": [
    {
     "name": "stdout",
     "output_type": "stream",
     "text": [
      "y= 0.642814613386485 x+ 5800.269909667825\n"
     ]
    },
    {
     "data": {
      "image/png": "[encoded data removed]",
      "text/plain": [
       "<Figure size 432x288 with 1 Axes>"
      ]
     },
     "metadata": {
      "needs_background": "light"
     },
     "output_type": "display_data"
    }
   ],
   "source": [
    "plt.plot(pixel,cali)\n",
    "plt.scatter(x,y,c='r')\n",
    "print(\"y=\",slope,\"x+\",inter)"
   ]
  },
  {
   "cell_type": "code",
   "execution_count": null,
   "metadata": {},
   "outputs": [],
   "source": []
  }
 ],
 "metadata": {
  "kernelspec": {
   "display_name": "Python 3",
   "language": "python",
   "name": "python3"
  },
  "language_info": {
   "codemirror_mode": {
    "name": "ipython",
    "version": 3
   },
   "file_extension": ".py",
   "mimetype": "text/x-python",
   "name": "python",
   "nbconvert_exporter": "python",
   "pygments_lexer": "ipython3",
   "version": "3.7.3"
  }
 },
 "nbformat": 4,
 "nbformat_minor": 2
}
