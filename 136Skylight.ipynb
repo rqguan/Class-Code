{
 "cells": [
  {
   "cell_type": "code",
   "execution_count": 64,
   "metadata": {},
   "outputs": [],
   "source": [
    "from __future__ import division\n",
    "from astropy.io import fits\n",
    "import os\n",
    "import glob\n",
    "import copy\n",
    "import numpy as np\n",
    "from astropy.table import Table, Column\n",
    "import astropy.wcs as wcs\n",
    "from astropy.convolution import Gaussian2DKernel\n",
    "from astropy.convolution import convolve\n",
    "from astropy.utils.data import get_pkg_data_filename\n",
    "from astropy.io import ascii\n",
    "from scipy.optimize import curve_fit\n",
    "import sys\n",
    "\n",
    "\n",
    "import sep\n",
    "import matplotlib.pyplot as plt\n",
    "import copy\n",
    "\n",
    "sep.set_extract_pixstack(30000000)\n",
    "from IPython.display import clear_output\n",
    "\n",
    "\n",
    "from astropy.visualization import astropy_mpl_style\n",
    "plt.style.use(astropy_mpl_style)\n",
    "import astropy.units as u\n",
    "from astropy.time import Time\n",
    "from astropy.coordinates import SkyCoord, EarthLocation, AltAz"
   ]
  },
  {
   "cell_type": "code",
   "execution_count": 33,
   "metadata": {},
   "outputs": [],
   "source": [
    "# define path\n",
    "path = 'Documents/136P1'"
   ]
  },
  {
   "cell_type": "code",
   "execution_count": 34,
   "metadata": {},
   "outputs": [
    {
     "name": "stdout",
     "output_type": "stream",
     "text": [
      "/Users/runquanguan\n"
     ]
    }
   ],
   "source": [
    "cd"
   ]
  },
  {
   "cell_type": "code",
   "execution_count": 35,
   "metadata": {},
   "outputs": [],
   "source": [
    "os.chdir(path)\n",
    "filename = glob.glob('*')"
   ]
  },
  {
   "cell_type": "code",
   "execution_count": 36,
   "metadata": {},
   "outputs": [],
   "source": [
    "def get_bias(folder):\n",
    "    Bias = []\n",
    "    ARY = []\n",
    "    # pick out bias frame\n",
    "    for file in folder:\n",
    "        data = fits.open(file)\n",
    "        TYPE = data[0].header['IMAGETYP']\n",
    "        if TYPE == 'Bias Frame':\n",
    "            Bias.append(file)\n",
    "            \n",
    "    # extract data array from data \n",
    "    for file in Bias:\n",
    "        data = fits.open(file)\n",
    "        array = data[0].data\n",
    "        # form arrays as a list\n",
    "        ARY.append(array)\n",
    "    # turn list into array again to sum up\n",
    "    ARY = np.array(ARY)\n",
    "    # sum up\n",
    "    SUM = ARY.sum(axis=0)\n",
    "    # average out\n",
    "    AVG = SUM/len(ARY)\n",
    "    # return result\n",
    "    return AVG\n",
    "   "
   ]
  },
  {
   "cell_type": "code",
   "execution_count": 37,
   "metadata": {},
   "outputs": [],
   "source": [
    "def deal_science(folder):\n",
    "    \n",
    "    # build new lists\n",
    "    science_frame = []\n",
    "    dark_frame = []\n",
    "    final_frame = []\n",
    "    \n",
    "    # define bias frame\n",
    "    bias_frame = get_bias(folder)\n",
    "    \n",
    "    # clasify science frames and dark frames\n",
    "    for file in folder:\n",
    "        data = fits.open(file)\n",
    "        \n",
    "    # declare variables\n",
    "        EXPTIME = data[0].header['EXPTIME']\n",
    "        TYPE = data[0].header['IMAGETYP']\n",
    "        DATA = data[0].data\n",
    "        \n",
    "    # classification\n",
    "        if TYPE == 'Dark Frame':\n",
    "            # remove bias for Dark frame\n",
    "            DATA = DATA - bias_frame\n",
    "            dark_frame.append(file)\n",
    "        elif TYPE == 'Light Frame':\n",
    "            # remove bias for Science frame\n",
    "            DATA = DATA - bias_frame\n",
    "            science_frame.append(file)\n",
    "        else:\n",
    "            pass\n",
    "    \n",
    "    # matching exposure time    \n",
    "    for file_s in science_frame:\n",
    "        \n",
    "        data_s = fits.open(file_s)\n",
    "        EXPTIME_s = data_s[0].header['EXPTIME']\n",
    "        \n",
    "        # for each science: match a dark by EXPST\n",
    "        for file_d in dark_frame:\n",
    "            \n",
    "            data_d = fits.open(file_d)\n",
    "            EXPTIME_d = data_d[0].header['EXPTIME']\n",
    "            \n",
    "            if EXPTIME_s == EXPTIME_d:\n",
    "                data_s[0].data = data_s[0].data - data_d[0].data\n",
    "                final_frame.append(file_s)\n",
    "            else:\n",
    "                pass\n",
    "\n",
    "    return final_frame\n",
    "            \n",
    "        \n",
    "            "
   ]
  },
  {
   "cell_type": "code",
   "execution_count": 38,
   "metadata": {},
   "outputs": [],
   "source": [
    "filename = deal_science(filename)\n",
    "\n",
    "\n",
    "JBE = EarthLocation(lat=37.005*u.deg, lon=-122.0631*u.deg, height=249*u.m)\n",
    "utcoffset = -8*u.hour  # Eastern Daylight Time\n",
    "\n",
    "time_set = []\n",
    "exptime = []\n",
    "ppixel = []\n",
    "ppixel_sec = []\n",
    "\n",
    "\n",
    "for name in filename:\n",
    "    file = fits.open(name)\n",
    "    \n",
    "    hh = int(file[0].header['DATE-OBS'][11:][:2])\n",
    "    mm = int(file[0].header['DATE-OBS'][11:][3:5])\n",
    "    ss = int(file[0].header['DATE-OBS'][11:][6:8])\n",
    "    time_set.append(hh + mm/60 + ss/3600)\n",
    "    time_format = str(file[0].header['DATE-OBS'][:10])+\" \"+str(hh)+':'+str(mm)+':'+str(ss)\n",
    "    obst = Time(time_format)-utcoffset\n",
    "    frame = AltAz(obstime=obst,location=JBE)\n",
    "    \n",
    "    \n",
    "    exptime.append(file[0].header['EXPTIME'])\n",
    "    \n",
    "    ppixel.append(np.average(file[0].data))\n",
    "    ppixel_sec.append(np.average(file[0].data)/file[0].header['EXPTIME'])\n",
    "    \n",
    "    \n",
    "\n",
    "   \n",
    "    "
   ]
  },
  {
   "cell_type": "code",
   "execution_count": 39,
   "metadata": {},
   "outputs": [],
   "source": [
    "timeset = Column(name='time', data=np.array(time_set), dtype=np.float64)\n",
    "exptime = Column(name='exptime', data=np.array(exptime))\n",
    "filename = Column(name='filename', data=filename)\n",
    "ppixel = Column(name='ppixel', data=ppixel)\n",
    "ppixel_sec = Column(name='ppixel_sec', data=ppixel_sec)\n",
    "\n",
    "catalog = Table([filename, timeset ,exptime, ppixel,ppixel_sec])"
   ]
  },
  {
   "cell_type": "code",
   "execution_count": 40,
   "metadata": {},
   "outputs": [
    {
     "data": {
      "text/html": [
       "<i>Table length=21</i>\n",
       "<table id=\"table47650493440\" class=\"table-striped table-bordered table-condensed\">\n",
       "<thead><tr><th>filename</th><th>time</th><th>exptime</th><th>ppixel</th><th>ppixel_sec</th></tr></thead>\n",
       "<thead><tr><th>str24</th><th>float64</th><th>float64</th><th>float64</th><th>float64</th></tr></thead>\n",
       "<tr><td>ASTR136_COS.00000034.FIT</td><td>12.1975</td><td>60.0</td><td>131.85851595540177</td><td>2.1976419325900296</td></tr>\n",
       "<tr><td>ASTR136_COS.00000035.FIT</td><td>12.22861111111111</td><td>60.0</td><td>127.20480328078943</td><td>2.120080054679824</td></tr>\n",
       "<tr><td>ASTR136_COS.00000036.FIT</td><td>12.246388888888887</td><td>60.0</td><td>125.20367550941945</td><td>2.086727925156991</td></tr>\n",
       "<tr><td>ASTR136_COS.00000037.FIT</td><td>12.264444444444445</td><td>60.0</td><td>130.0582186338588</td><td>2.1676369772309796</td></tr>\n",
       "<tr><td>ASTR136_COS.00000038.FIT</td><td>12.297222222222222</td><td>50.0</td><td>125.90258874791746</td><td>2.5180517749583493</td></tr>\n",
       "<tr><td>ASTR136_COS.00000039.FIT</td><td>12.312222222222223</td><td>50.0</td><td>125.14066128412149</td><td>2.50281322568243</td></tr>\n",
       "<tr><td>ASTR136_COS.00000040.FIT</td><td>12.3275</td><td>50.0</td><td>123.63793669101628</td><td>2.4727587338203256</td></tr>\n",
       "<tr><td>ASTR136_COS.00000041.FIT</td><td>12.346666666666668</td><td>50.0</td><td>126.39727797001153</td><td>2.5279455594002305</td></tr>\n",
       "<tr><td>ASTR136_COS.00000042.FIT</td><td>12.361666666666666</td><td>50.0</td><td>125.32059720620275</td><td>2.506411944124055</td></tr>\n",
       "<tr><td>ASTR136_COS.00000043.FIT</td><td>12.394166666666667</td><td>40.0</td><td>121.65895168524926</td><td>3.0414737921312316</td></tr>\n",
       "<tr><td>ASTR136_COS.00000044.FIT</td><td>12.40638888888889</td><td>40.0</td><td>118.4716852492631</td><td>2.9617921312315776</td></tr>\n",
       "<tr><td>ASTR136_COS.00000045.FIT</td><td>12.418888888888889</td><td>40.0</td><td>123.39275663206459</td><td>3.084818915801615</td></tr>\n",
       "<tr><td>ASTR136_COS.00000046.FIT</td><td>12.431111111111111</td><td>40.0</td><td>125.7363373061643</td><td>3.1434084326541076</td></tr>\n",
       "<tr><td>ASTR136_COS.00000047.FIT</td><td>12.443611111111112</td><td>40.0</td><td>121.0518134051006</td><td>3.0262953351275153</td></tr>\n",
       "<tr><td>ASTR136_COS.00000048.FIT</td><td>12.459999999999999</td><td>40.0</td><td>123.85463539664232</td><td>3.0963658849160582</td></tr>\n",
       "<tr><td>ASTR136_COS.00000049.FIT</td><td>12.472222222222223</td><td>40.0</td><td>122.79689606561578</td><td>3.0699224016403948</td></tr>\n",
       "<tr><td>ASTR136_COS.00000050.FIT</td><td>12.4925</td><td>30.0</td><td>119.15093169293861</td><td>3.9716977230979538</td></tr>\n",
       "<tr><td>ASTR136_COS.00000051.FIT</td><td>12.502222222222223</td><td>30.0</td><td>120.13370754837882</td><td>4.004456918279294</td></tr>\n",
       "<tr><td>ASTR136_COS.00000052.FIT</td><td>12.511666666666667</td><td>30.0</td><td>120.50959118287838</td><td>4.016986372762613</td></tr>\n",
       "<tr><td>ASTR136_COS.00000053.FIT</td><td>12.52138888888889</td><td>30.0</td><td>116.6888837626554</td><td>3.88962945875518</td></tr>\n",
       "<tr><td>ASTR136_COS.00000054.FIT</td><td>12.530833333333334</td><td>30.0</td><td>118.78237857234397</td><td>3.9594126190781322</td></tr>\n",
       "</table>"
      ],
      "text/plain": [
       "<Table length=21>\n",
       "        filename                time        ...     ppixel_sec    \n",
       "         str24                float64       ...      float64      \n",
       "------------------------ ------------------ ... ------------------\n",
       "ASTR136_COS.00000034.FIT            12.1975 ... 2.1976419325900296\n",
       "ASTR136_COS.00000035.FIT  12.22861111111111 ...  2.120080054679824\n",
       "ASTR136_COS.00000036.FIT 12.246388888888887 ...  2.086727925156991\n",
       "ASTR136_COS.00000037.FIT 12.264444444444445 ... 2.1676369772309796\n",
       "ASTR136_COS.00000038.FIT 12.297222222222222 ... 2.5180517749583493\n",
       "ASTR136_COS.00000039.FIT 12.312222222222223 ...   2.50281322568243\n",
       "ASTR136_COS.00000040.FIT            12.3275 ... 2.4727587338203256\n",
       "ASTR136_COS.00000041.FIT 12.346666666666668 ... 2.5279455594002305\n",
       "ASTR136_COS.00000042.FIT 12.361666666666666 ...  2.506411944124055\n",
       "ASTR136_COS.00000043.FIT 12.394166666666667 ... 3.0414737921312316\n",
       "ASTR136_COS.00000044.FIT  12.40638888888889 ... 2.9617921312315776\n",
       "ASTR136_COS.00000045.FIT 12.418888888888889 ...  3.084818915801615\n",
       "ASTR136_COS.00000046.FIT 12.431111111111111 ... 3.1434084326541076\n",
       "ASTR136_COS.00000047.FIT 12.443611111111112 ... 3.0262953351275153\n",
       "ASTR136_COS.00000048.FIT 12.459999999999999 ... 3.0963658849160582\n",
       "ASTR136_COS.00000049.FIT 12.472222222222223 ... 3.0699224016403948\n",
       "ASTR136_COS.00000050.FIT            12.4925 ... 3.9716977230979538\n",
       "ASTR136_COS.00000051.FIT 12.502222222222223 ...  4.004456918279294\n",
       "ASTR136_COS.00000052.FIT 12.511666666666667 ...  4.016986372762613\n",
       "ASTR136_COS.00000053.FIT  12.52138888888889 ...   3.88962945875518\n",
       "ASTR136_COS.00000054.FIT 12.530833333333334 ... 3.9594126190781322"
      ]
     },
     "execution_count": 40,
     "metadata": {},
     "output_type": "execute_result"
    }
   ],
   "source": [
    "catalog.sort('filename')\n",
    "catalog"
   ]
  },
  {
   "cell_type": "code",
   "execution_count": 117,
   "metadata": {},
   "outputs": [],
   "source": [
    "x = catalog['time']\n",
    "y = catalog['ppixel_sec']\n",
    "\n",
    "fit = np.polyfit(x, np.log(y), 1, w=np.sqrt(y))\n",
    "fit\n",
    "\n",
    "xx = np.linspace(12.19,12.54)\n",
    "yy = np.exp(fit[1]) * np.exp(fit[0] * xx)\n"
   ]
  },
  {
   "cell_type": "code",
   "execution_count": 129,
   "metadata": {},
   "outputs": [
    {
     "data": {
      "text/plain": [
       "<matplotlib.legend.Legend at 0x131c049198>"
      ]
     },
     "execution_count": 129,
     "metadata": {},
     "output_type": "execute_result"
    },
    {
     "data": {
      "image/png": "[encoded data removed]",
      "text/plain": [
       "<Figure size 576x432 with 1 Axes>"
      ]
     },
     "metadata": {},
     "output_type": "display_data"
    }
   ],
   "source": [
    "# plotting\n",
    "\n",
    "plt.scatter(catalog['time'],catalog['ppixel_sec'],label='CCD Count/pixel/sec')\n",
    "plt.plot(xx,yy,c='r',label='Exponential Fit')\n",
    "plt.legend(loc=4, frameon=False)"
   ]
  },
  {
   "cell_type": "markdown",
   "metadata": {},
   "source": [
    "## Test space"
   ]
  },
  {
   "cell_type": "code",
   "execution_count": 31,
   "metadata": {},
   "outputs": [
    {
     "data": {
      "text/plain": [
       "array([[130, 124, 131, ..., 107, 107, 102],\n",
       "       [139, 131, 128, ..., 113, 117, 110],\n",
       "       [139, 135, 121, ..., 118, 115, 121],\n",
       "       ...,\n",
       "       [126, 142, 131, ..., 121, 111, 120],\n",
       "       [135, 140, 142, ..., 121, 129, 119],\n",
       "       [142, 145, 137, ..., 118, 114, 111]], dtype=uint16)"
      ]
     },
     "execution_count": 31,
     "metadata": {},
     "output_type": "execute_result"
    }
   ],
   "source": [
    "example = fits.open('ASTR136_COS.00000033.FIT')\n",
    "\n",
    "image_file = get_pkg_data_filename('ASTR136_COS.00000033.FIT')\n",
    "\n",
    "ex_header = example[0].header\n",
    "\n",
    "data = example[0].data\n",
    "\n",
    "data"
   ]
  }
 ],
 "metadata": {
  "kernelspec": {
   "display_name": "Python 3",
   "language": "python",
   "name": "python3"
  },
  "language_info": {
   "codemirror_mode": {
    "name": "ipython",
    "version": 3
   },
   "file_extension": ".py",
   "mimetype": "text/x-python",
   "name": "python",
   "nbconvert_exporter": "python",
   "pygments_lexer": "ipython3",
   "version": "3.7.3"
  }
 },
 "nbformat": 4,
 "nbformat_minor": 2
}
