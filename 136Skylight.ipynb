{
 "cells": [
  {
   "cell_type": "code",
   "execution_count": 1,
   "metadata": {},
   "outputs": [],
   "source": [
    "from __future__ import division\n",
    "from astropy.io import fits\n",
    "import os\n",
    "import glob\n",
    "import copy\n",
    "import numpy as np\n",
    "from astropy.table import Table, Column\n",
    "import astropy.wcs as wcs\n",
    "from astropy.convolution import Gaussian2DKernel\n",
    "from astropy.convolution import convolve\n",
    "from astropy.utils.data import get_pkg_data_filename\n",
    "from astropy.io import ascii\n",
    "from scipy.optimize import curve_fit\n",
    "import sys\n",
    "\n",
    "\n",
    "import sep\n",
    "import matplotlib.pyplot as plt\n",
    "import copy\n",
    "\n",
    "sep.set_extract_pixstack(30000000)\n",
    "from IPython.display import clear_output\n",
    "\n",
    "\n",
    "from astropy.visualization import astropy_mpl_style\n",
    "plt.style.use(astropy_mpl_style)\n",
    "import astropy.units as u\n",
    "from astropy.time import Time\n",
    "from astropy.coordinates import SkyCoord, EarthLocation, AltAz"
   ]
  },
  {
   "cell_type": "code",
   "execution_count": 2,
   "metadata": {},
   "outputs": [],
   "source": [
    "# define path\n",
    "path = 'Documents/136P1'"
   ]
  },
  {
   "cell_type": "code",
   "execution_count": 3,
   "metadata": {},
   "outputs": [
    {
     "name": "stdout",
     "output_type": "stream",
     "text": [
      "/Users/runquanguan\n"
     ]
    }
   ],
   "source": [
    "cd"
   ]
  },
  {
   "cell_type": "code",
   "execution_count": 4,
   "metadata": {},
   "outputs": [],
   "source": [
    "os.chdir(path)\n",
    "filename = glob.glob('*')"
   ]
  },
  {
   "cell_type": "code",
   "execution_count": 5,
   "metadata": {},
   "outputs": [],
   "source": [
    "def get_bias(folder):\n",
    "    Bias = []\n",
    "    ARRAY = []\n",
    "    # pick out bias frame\n",
    "    for file in folder:\n",
    "        hdul = fits.open(file)\n",
    "        TYPE = hdul[0].header['IMAGETYP']\n",
    "        if TYPE == 'Bias Frame':\n",
    "            Bias.append(file)\n",
    "            \n",
    "    # extract data array from data \n",
    "    for file in Bias:\n",
    "        hdul_b = fits.open(file)\n",
    "        array = hdul_b[0].data\n",
    "        # form arrays as a list\n",
    "        ARRAY.append(array)\n",
    "    # turn list into array again to sum up\n",
    "    ARRAY = np.array(ARRAY)\n",
    "    # sum up\n",
    "    SUM = ARRAY.sum(axis=0)\n",
    "    # average out\n",
    "    AVG = SUM/len(ARRAY)\n",
    "    # return result\n",
    "    return AVG\n",
    "   "
   ]
  },
  {
   "cell_type": "code",
   "execution_count": 6,
   "metadata": {},
   "outputs": [
    {
     "data": {
      "text/plain": [
       "106.91478162245288"
      ]
     },
     "execution_count": 6,
     "metadata": {},
     "output_type": "execute_result"
    }
   ],
   "source": [
    "np.average(get_bias(filename))"
   ]
  },
  {
   "cell_type": "code",
   "execution_count": 7,
   "metadata": {},
   "outputs": [],
   "source": [
    "def minus_bias(folder):\n",
    "    \n",
    "    # build new lists\n",
    "    science_frame = []\n",
    "    dark_frame = []\n",
    "    \n",
    "    # define bias frame\n",
    "    bias_frame = get_bias(folder)\n",
    "    \n",
    "    # clasify science frames and dark frames\n",
    "    for file in folder:\n",
    "        hdul = fits.open(file)\n",
    "        \n",
    "    # declare variables\n",
    "        EXPTIME = hdul[0].header['EXPTIME']\n",
    "        TYPE = hdul[0].header['IMAGETYP']\n",
    "        DATA = hdul[0].data\n",
    "        \n",
    "    # classification\n",
    "        if TYPE == 'Dark Frame':\n",
    "            # remove bias for Dark frame\n",
    "            DATA = DATA - bias_frame\n",
    "            hdul[0].data = DATA\n",
    "            \n",
    "            new_file = file[0:20]+\"d\"+file[20:29]\n",
    "            hdul.writeto(new_file,overwrite=True)\n",
    "            dark_frame.append(new_file)\n",
    "            \n",
    "        elif TYPE == 'Light Frame':\n",
    "            # remove bias for Science frame\n",
    "            DATA = DATA - bias_frame\n",
    "            hdul[0].data = DATA\n",
    "            \n",
    "            new_file = file[0:20]+\"l\"+file[20:29]\n",
    "            hdul.writeto(new_file,overwrite=True)            \n",
    "            science_frame.append(new_file)\n",
    "            \n",
    "        else:\n",
    "            pass\n",
    "\n",
    "        \n",
    "    return science_frame, dark_frame\n"
   ]
  },
  {
   "cell_type": "code",
   "execution_count": 8,
   "metadata": {},
   "outputs": [],
   "source": [
    "def flat_fielding(science_frame, dark_frame):\n",
    "    final_frame = []\n",
    "    \n",
    "    # matching exposure time    \n",
    "    for file_s in science_frame:\n",
    "        \n",
    "        hdul_s = fits.open(file_s)\n",
    "        EXPTIME_s = hdul_s[0].header['EXPTIME']\n",
    "        \n",
    "        # for each science: match a dark by EXPST\n",
    "        for file_d in dark_frame:\n",
    "            \n",
    "            hdul_d = fits.open(file_d)\n",
    "            EXPTIME_d = hdul_d[0].header['EXPTIME']\n",
    "            \n",
    "            if EXPTIME_s == EXPTIME_d:\n",
    "                final = hdul_s[0].data - hdul_d[0].data\n",
    "                hdul_s[0].data = final\n",
    "                \n",
    "                new_file = file_s[0:20]+\"f\"+file_s[20:29]\n",
    "                hdul_s.writeto(new_file,overwrite=True) \n",
    "                final_frame.append(new_file)\n",
    "            else:\n",
    "                pass\n",
    "\n",
    "    return final_frame\n"
   ]
  },
  {
   "cell_type": "code",
   "execution_count": 9,
   "metadata": {},
   "outputs": [],
   "source": [
    "science_frame, dark_frame = minus_bias(filename)\n",
    "\n",
    "final_flame = flat_fielding(science_frame, dark_frame)\n"
   ]
  },
  {
   "cell_type": "code",
   "execution_count": 10,
   "metadata": {},
   "outputs": [],
   "source": [
    "JBE = EarthLocation(lat=37.005*u.deg, lon=-122.0631*u.deg, height=249*u.m)\n",
    "utcoffset = -8*u.hour  # Eastern Daylight Time\n",
    "\n",
    "time_set = []\n",
    "exptime = []\n",
    "ppixel = []\n",
    "ppixel_sec = []\n",
    "\n",
    "\n",
    "for name in final_flame:\n",
    "    hudl = fits.open(name)\n",
    "    \n",
    "    hh = int(hudl[0].header['DATE-OBS'][11:][:2])\n",
    "    mm = int(hudl[0].header['DATE-OBS'][11:][3:5])\n",
    "    ss = int(hudl[0].header['DATE-OBS'][11:][6:8])\n",
    "    time_set.append(hh + mm/60 + ss/3600) \n",
    "    \n",
    "    exptime.append(hudl[0].header['EXPTIME'])\n",
    "    ppixel.append(np.average(hudl[0].data))\n",
    "    ppixel_sec.append(np.average(hudl[0].data)/hudl[0].header['EXPTIME'])\n",
    "    \n",
    "    \n",
    "\n",
    "   \n",
    "    "
   ]
  },
  {
   "cell_type": "code",
   "execution_count": 11,
   "metadata": {},
   "outputs": [],
   "source": [
    "timeset = Column(name='time', data=np.array(time_set), dtype=np.float64)\n",
    "exptime = Column(name='exptime', data=np.array(exptime))\n",
    "filename = Column(name='filename', data=final_flame)\n",
    "ppixel = Column(name='ppixel', data=ppixel)\n",
    "ppixel_sec = Column(name='ppixel_sec', data=ppixel_sec)\n",
    "\n",
    "catalog = Table([filename, timeset ,exptime, ppixel,ppixel_sec])"
   ]
  },
  {
   "cell_type": "code",
   "execution_count": 12,
   "metadata": {},
   "outputs": [
    {
     "data": {
      "text/html": [
       "<i>Table length=22</i>\n",
       "<table id=\"table82188289808\" class=\"table-striped table-bordered table-condensed\">\n",
       "<thead><tr><th>filename</th><th>time</th><th>exptime</th><th>ppixel</th><th>ppixel_sec</th></tr></thead>\n",
       "<thead><tr><th>str26</th><th>float64</th><th>float64</th><th>float64</th><th>float64</th></tr></thead>\n",
       "<tr><td>ASTR136_COS.00000033fl.FIT</td><td>12.171388888888888</td><td>30.0</td><td>8.940576701268743</td><td>0.29801922337562475</td></tr>\n",
       "<tr><td>ASTR136_COS.00000034fl.FIT</td><td>12.1975</td><td>60.0</td><td>20.53022427271562</td><td>0.3421704045452604</td></tr>\n",
       "<tr><td>ASTR136_COS.00000035fl.FIT</td><td>12.22861111111111</td><td>60.0</td><td>15.876511598103294</td><td>0.2646085266350549</td></tr>\n",
       "<tr><td>ASTR136_COS.00000036fl.FIT</td><td>12.246388888888887</td><td>60.0</td><td>13.875383826733307</td><td>0.2312563971122218</td></tr>\n",
       "<tr><td>ASTR136_COS.00000037fl.FIT</td><td>12.264444444444445</td><td>60.0</td><td>18.729926951172626</td><td>0.3121654491862104</td></tr>\n",
       "<tr><td>ASTR136_COS.00000038fl.FIT</td><td>12.297222222222222</td><td>50.0</td><td>15.729696270665128</td><td>0.31459392541330256</td></tr>\n",
       "<tr><td>ASTR136_COS.00000039fl.FIT</td><td>12.312222222222223</td><td>50.0</td><td>14.967768806869152</td><td>0.29935537613738306</td></tr>\n",
       "<tr><td>ASTR136_COS.00000040fl.FIT</td><td>12.3275</td><td>50.0</td><td>13.465044213763937</td><td>0.26930088427527876</td></tr>\n",
       "<tr><td>ASTR136_COS.00000041fl.FIT</td><td>12.346666666666668</td><td>50.0</td><td>16.224385492759197</td><td>0.32448770985518394</td></tr>\n",
       "<tr><td>ASTR136_COS.00000042fl.FIT</td><td>12.361666666666666</td><td>50.0</td><td>15.147704728950403</td><td>0.30295409457900807</td></tr>\n",
       "<tr><td>ASTR136_COS.00000043fl.FIT</td><td>12.394166666666667</td><td>40.0</td><td>8.656598744072793</td><td>0.21641496860181983</td></tr>\n",
       "<tr><td>ASTR136_COS.00000044fl.FIT</td><td>12.40638888888889</td><td>40.0</td><td>5.469332308086633</td><td>0.13673330770216582</td></tr>\n",
       "<tr><td>ASTR136_COS.00000045fl.FIT</td><td>12.418888888888889</td><td>40.0</td><td>10.39040369088812</td><td>0.259760092272203</td></tr>\n",
       "<tr><td>ASTR136_COS.00000046fl.FIT</td><td>12.431111111111111</td><td>40.0</td><td>12.733984364987824</td><td>0.3183496091246956</td></tr>\n",
       "<tr><td>ASTR136_COS.00000047fl.FIT</td><td>12.443611111111112</td><td>40.0</td><td>8.049460463924131</td><td>0.20123651159810327</td></tr>\n",
       "<tr><td>ASTR136_COS.00000048fl.FIT</td><td>12.459999999999999</td><td>40.0</td><td>10.852282455465847</td><td>0.2713070613866462</td></tr>\n",
       "<tr><td>ASTR136_COS.00000049fl.FIT</td><td>12.472222222222223</td><td>40.0</td><td>9.794543124439318</td><td>0.24486357811098297</td></tr>\n",
       "<tr><td>ASTR136_COS.00000050fl.FIT</td><td>12.4925</td><td>30.0</td><td>6.744749455337691</td><td>0.22482498184458968</td></tr>\n",
       "<tr><td>ASTR136_COS.00000051fl.FIT</td><td>12.502222222222223</td><td>30.0</td><td>7.727525310777906</td><td>0.25758417702593017</td></tr>\n",
       "<tr><td>ASTR136_COS.00000052fl.FIT</td><td>12.511666666666667</td><td>30.0</td><td>8.103408945277458</td><td>0.2701136315092486</td></tr>\n",
       "<tr><td>ASTR136_COS.00000053fl.FIT</td><td>12.52138888888889</td><td>30.0</td><td>4.282701525054466</td><td>0.14275671750181554</td></tr>\n",
       "<tr><td>ASTR136_COS.00000054fl.FIT</td><td>12.530833333333334</td><td>30.0</td><td>6.376196334743048</td><td>0.21253987782476827</td></tr>\n",
       "</table>"
      ],
      "text/plain": [
       "<Table length=22>\n",
       "         filename                 time        ...      ppixel_sec    \n",
       "          str26                 float64       ...       float64      \n",
       "-------------------------- ------------------ ... -------------------\n",
       "ASTR136_COS.00000033fl.FIT 12.171388888888888 ... 0.29801922337562475\n",
       "ASTR136_COS.00000034fl.FIT            12.1975 ...  0.3421704045452604\n",
       "ASTR136_COS.00000035fl.FIT  12.22861111111111 ...  0.2646085266350549\n",
       "ASTR136_COS.00000036fl.FIT 12.246388888888887 ...  0.2312563971122218\n",
       "ASTR136_COS.00000037fl.FIT 12.264444444444445 ...  0.3121654491862104\n",
       "ASTR136_COS.00000038fl.FIT 12.297222222222222 ... 0.31459392541330256\n",
       "ASTR136_COS.00000039fl.FIT 12.312222222222223 ... 0.29935537613738306\n",
       "ASTR136_COS.00000040fl.FIT            12.3275 ... 0.26930088427527876\n",
       "ASTR136_COS.00000041fl.FIT 12.346666666666668 ... 0.32448770985518394\n",
       "ASTR136_COS.00000042fl.FIT 12.361666666666666 ... 0.30295409457900807\n",
       "ASTR136_COS.00000043fl.FIT 12.394166666666667 ... 0.21641496860181983\n",
       "ASTR136_COS.00000044fl.FIT  12.40638888888889 ... 0.13673330770216582\n",
       "ASTR136_COS.00000045fl.FIT 12.418888888888889 ...   0.259760092272203\n",
       "ASTR136_COS.00000046fl.FIT 12.431111111111111 ...  0.3183496091246956\n",
       "ASTR136_COS.00000047fl.FIT 12.443611111111112 ... 0.20123651159810327\n",
       "ASTR136_COS.00000048fl.FIT 12.459999999999999 ...  0.2713070613866462\n",
       "ASTR136_COS.00000049fl.FIT 12.472222222222223 ... 0.24486357811098297\n",
       "ASTR136_COS.00000050fl.FIT            12.4925 ... 0.22482498184458968\n",
       "ASTR136_COS.00000051fl.FIT 12.502222222222223 ... 0.25758417702593017\n",
       "ASTR136_COS.00000052fl.FIT 12.511666666666667 ...  0.2701136315092486\n",
       "ASTR136_COS.00000053fl.FIT  12.52138888888889 ... 0.14275671750181554\n",
       "ASTR136_COS.00000054fl.FIT 12.530833333333334 ... 0.21253987782476827"
      ]
     },
     "execution_count": 12,
     "metadata": {},
     "output_type": "execute_result"
    }
   ],
   "source": [
    "catalog.sort('filename')\n",
    "catalog"
   ]
  },
  {
   "cell_type": "code",
   "execution_count": 13,
   "metadata": {},
   "outputs": [
    {
     "name": "stdout",
     "output_type": "stream",
     "text": [
      "[-0.94287727 10.33594743]\n"
     ]
    }
   ],
   "source": [
    "x = catalog['time']\n",
    "y = catalog['ppixel_sec']\n",
    "\n",
    "fit = np.polyfit(x, np.log(y), 1, w=np.sqrt(y))\n",
    "print(fit)\n",
    "\n",
    "xx = np.linspace(12.19,12.54)\n",
    "yy = np.exp(fit[1]) * np.exp(fit[0] * xx)\n"
   ]
  },
  {
   "cell_type": "code",
   "execution_count": 14,
   "metadata": {},
   "outputs": [
    {
     "data": {
      "text/plain": [
       "<matplotlib.legend.Legend at 0x10fda9be0>"
      ]
     },
     "execution_count": 14,
     "metadata": {},
     "output_type": "execute_result"
    },
    {
     "data": {
      "image/png": "[encoded data removed]",
      "text/plain": [
       "<Figure size 432x288 with 1 Axes>"
      ]
     },
     "metadata": {
      "needs_background": "light"
     },
     "output_type": "display_data"
    }
   ],
   "source": [
    "# plotting\n",
    "\n",
    "plt.scatter(catalog['time'],catalog['ppixel_sec'],label='CCD Count/pixel/sec')\n",
    "\n",
    "plt.errorbar(catalog['time'],catalog['ppixel_sec'], yerr=np.sqrt(catalog['ppixel'])/catalog['exptime'],\n",
    "             fmt='.',ecolor = 'r',alpha = 0.5,capsize=1,label='Possion Error')\n",
    "\n",
    "plt.plot(xx,yy,c='r',label='Exponential Fit')\n",
    "plt.legend(loc=4, frameon=False)"
   ]
  },
  {
   "cell_type": "markdown",
   "metadata": {},
   "source": [
    "## Test space"
   ]
  },
  {
   "cell_type": "code",
   "execution_count": 20,
   "metadata": {},
   "outputs": [
    {
     "data": {
      "text/plain": [
       "60.0"
      ]
     },
     "execution_count": 20,
     "metadata": {},
     "output_type": "execute_result"
    }
   ],
   "source": [
    "hudl = fits.open('ASTR136_COS.00000034.FIT')\n",
    "\n",
    "hudl[0].header['EXPTIME']\n",
    "hudl[0].data\n",
    "\n"
   ]
  },
  {
   "cell_type": "code",
   "execution_count": 27,
   "metadata": {},
   "outputs": [
    {
     "data": {
      "text/plain": [
       "array([   20,    14,    24,    32,     1,    26,    15,    34,    21,\n",
       "          35,    24,    22,    28,    27,    32,    19,    19,    22,\n",
       "          36,     8,    22,    26,    28,    14, 65534,    11,    18,\n",
       "          13,    30,    30,     8,     5,    19,    20,    26,    22,\n",
       "          19,    24,     5,    25,    16,     0,    11,    17,    19,\n",
       "          31,    29,    36,    19,    48,    22,    23,    26,    30,\n",
       "          24,    35,    22,    20,    22,    25,     4,    11,     5,\n",
       "          26,    11,     6,    24,    21,     5,    24,    21,    20,\n",
       "          11,     5,    13,    19,    32,    22,    15,    21,    22,\n",
       "          24,    15,    26,    21, 65535,    21,    26,    27,    19,\n",
       "          12,    19,    13,     6,    14,     9,    30,    17,    28,\n",
       "          20,     5,    24,     9,    16,    19,    21,    26,    17,\n",
       "          16,    28,     9,    11,    21,    13,     3,    15,    22,\n",
       "          25,    25,    28,    24,     7,    25,     1,    16,    20,\n",
       "          40,    17,    43,    15,    16,     1,    13,    20,    30,\n",
       "          21,    25,    19,    28,    31,    19,    15,    40,     3,\n",
       "          18,    40,    10,    26,    20,    28,    22,    30,    28,\n",
       "          11,    19,    43,     8,     9,    26,    26,    26,    15,\n",
       "          21,    18,    14,    25,    20,     5,    28,    25,    31,\n",
       "          19,    23,    11,    21,    26,    22,    24,    28,    15,\n",
       "          22,    23,     6,    18,    16,    19,    22,     9,    11,\n",
       "          14,    20,     8, 65535,    10,    15,    21,    35,    10,\n",
       "           0,    12,     9,    30,    11,    26,    30,    13,    26,\n",
       "          10,    15,    18,    25,    47,    10,    10,    18,    19,\n",
       "          24,    31,    20,    14,    26,    10,    20,    29,    14,\n",
       "          24,    37,    11,    33,    17,    31,    19,    16,     9,\n",
       "           7,    28,    26,    24,    17,     8,    26,    17,    16,\n",
       "          21,    27,    12,    21,    25,    17,    28,    16,    21,\n",
       "          37,    19,    12, 65535,    21,    29,    22,    20,    26,\n",
       "          21,    17,    29,    17,    28,    19,    19,    21,     3,\n",
       "          30,    20,    24,    13,    26,    12,    20,    11,    15,\n",
       "          24,    42,     0,    30,    20,    10,    26,    13,     2,\n",
       "          11,    19,    18,    29,    10,    26,    22,     8,    21,\n",
       "           3,    10,    20,    24,    21,    28,    28,    25,    23,\n",
       "          21,    25,    10,    11,    18,    11,    29,    19,    26,\n",
       "          37,    20,    35,    32,    26,    25,    22,    16,    10,\n",
       "           5,    23,    25,    30,    18,    25,    20,    31,    26,\n",
       "          28,    15,    16,    20,    17,    10,    24,    24,    23,\n",
       "          27, 65535,    35,    12,    22,    20,    24,    30,    14,\n",
       "           9,     9,    20,     8,    17,     1,    27,    15,    31,\n",
       "          19,    17,    20,     4,    12,    30,    13,    40,    28,\n",
       "          34,    25,    19,    33,    16,    24,    33,    32,    25,\n",
       "          14,    10,    11,    27,     5,    19,    28,    26,    12,\n",
       "          23,    24,    19,     7,    10,    16,    16,     8,    20,\n",
       "          20,    13,    15,    10,    20,    19,    15,    20,    30,\n",
       "          25,    26,    18,    28,    22,    23,    28,    17,    25,\n",
       "           4,    22,    21,    19,    25,    20,    20,    15,    36,\n",
       "          25,    16,    15,    24,    31,     9,    11,     8,    41,\n",
       "          16,    37,     6,    19,    11,    30,     9,    20,    10,\n",
       "          30,    16,    27,    23,    18,    26,    20,    10,    18,\n",
       "          11,    16,    34,    13,     8,    12,    22,    24,     3,\n",
       "          17,    27,    24,    21,    22,    15,    24,    10,    11,\n",
       "          32,     8,    25,    21,    34,    15,     9,    31,    19,\n",
       "          27,    28,    45,    24,     2,     8,    40,    25,    14,\n",
       "          32,    12,    27,    13,    17,    33,    19,    32,    25,\n",
       "          19,    29,    18,    13,    19,    12,    15,     2,    13,\n",
       "       65532,    11,    10,    19,    41,    12,    14,    18,    24,\n",
       "          27,    31,    20,    17,     9,    32,    20,    19,     7,\n",
       "          31,    35,    24,    30,    24,    14,     8,    18,    11,\n",
       "          11,    28,    30,    13,    16,    22,    25,    31,    31,\n",
       "          25,    24,    19,    30,    38,    13,    22,    28,    18,\n",
       "          25,    27,    21,    14,    10,    17,    30,     7,     9,\n",
       "          27,     1,    22,    14,    29,    22,    13,    22,    43,\n",
       "       65535,    19,    31,    20,    20,    22,    40,     8,    12,\n",
       "          25,    15,     4,    17,    26,    23,    10,    30,    33,\n",
       "          15,    18,    18,    24,    23,    18,    25,    18,     0,\n",
       "          12,    25,    21,    15,    24,    20,    21,    25, 65530,\n",
       "          22,    32,    31,     3,    26,     3,    42,    24,    16,\n",
       "          15,    20,    20,    19,    20,     6,    32,    10,     8,\n",
       "          24,    39,    22,    13,    18,     6,     6,     8,    19,\n",
       "          17,    28,    17,    24,    26,    19,    41,    25,     9,\n",
       "          27,    38,    15,    23,    17,    16,    33,    22,    24,\n",
       "          21,    16,     3,    32,    34,    35,    31,    20,    29,\n",
       "          23,    20,    16,     7,    23,    24,    15,    17,    18,\n",
       "          10,    35,    10,     5,    21,    15,    14,    28,    17,\n",
       "          17,     8,    17,    35,    25, 65533,    38,    25,    26,\n",
       "          29,    21,    23,    13,     8,    11,    23,    22,    15,\n",
       "          12,    26,    18,    35,    28,    11,    13,    15,    22,\n",
       "          37,    12,    13,    30,     6,    21,    20,    37,    10,\n",
       "           1,    27,     3,    25,     8,     9,    16,    16,    13,\n",
       "          14,    35,    32,    18,    29,    24,    18,     4,    31,\n",
       "           9,    19,     4,    14,    14,    11, 65532,    17,     6,\n",
       "          31,    14,    33,     9,     9,    32,    26,    19,    23,\n",
       "          35,     3,    18,    14,    18,    14,    26,    10,    20,\n",
       "          28,    19,    26,    18,    22,    18,    22, 65535,    24],\n",
       "      dtype=uint16)"
      ]
     },
     "execution_count": 27,
     "metadata": {},
     "output_type": "execute_result"
    }
   ],
   "source": [
    "hudla = fits.open('ASTR136_COS.00000055.DARK.FIT')\n",
    "\n",
    "count = hudl[0].data-hudla[0].data\n",
    "#np.average(count)\n",
    "count[1]"
   ]
  },
  {
   "cell_type": "code",
   "execution_count": 18,
   "metadata": {},
   "outputs": [
    {
     "name": "stderr",
     "output_type": "stream",
     "text": [
      "/Users/runquanguan/anaconda3/lib/python3.7/site-packages/ipykernel_launcher.py:22: RuntimeWarning: invalid value encountered in double_scalars\n"
     ]
    },
    {
     "data": {
      "text/plain": [
       "array([[nan, nan, nan, ..., nan, nan, nan],\n",
       "       [nan, nan, nan, ..., nan, nan, nan],\n",
       "       [nan, nan, nan, ..., nan, nan, nan],\n",
       "       ...,\n",
       "       [nan, nan, nan, ..., nan, nan, nan],\n",
       "       [nan, nan, nan, ..., nan, nan, nan],\n",
       "       [nan, nan, nan, ..., nan, nan, nan]])"
      ]
     },
     "execution_count": 18,
     "metadata": {},
     "output_type": "execute_result"
    }
   ],
   "source": [
    "    hdul = fits.open('ASTR136_COS.00000055.DARK.FIT')\n",
    "    TYPE = hdul[0].header['IMAGETYP']\n",
    "    DATA = hdul[0].data\n",
    "    EXPTIME = hdul[0].header['EXPTIME']\n",
    "    bias = get_bias(filename)\n",
    "    # classification\n",
    "    if TYPE == 'Dark Frame':\n",
    "        DATA = DATA - bias\n",
    "        hdul[0].data = DATA\n",
    "        hdul.writeto('ASTR136_COS.00000055a.DARK.FIT',overwrite=True)\n",
    "    else:\n",
    "        pass  \n",
    "    \n",
    "fits.getdata('ASTR136_COS.00000055a.DARK.FIT')"
   ]
  }
 ],
 "metadata": {
  "kernelspec": {
   "display_name": "Python 3",
   "language": "python",
   "name": "python3"
  },
  "language_info": {
   "codemirror_mode": {
    "name": "ipython",
    "version": 3
   },
   "file_extension": ".py",
   "mimetype": "text/x-python",
   "name": "python",
   "nbconvert_exporter": "python",
   "pygments_lexer": "ipython3",
   "version": "3.7.3"
  }
 },
 "nbformat": 4,
 "nbformat_minor": 2
}
